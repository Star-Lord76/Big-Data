{
 "cells": [
  {
   "cell_type": "code",
   "execution_count": null,
   "metadata": {},
   "outputs": [],
   "source": [
    "import sys\n",
    "sys.path.append(\"../.\")"
   ]
  },
  {
   "cell_type": "code",
   "execution_count": null,
   "metadata": {},
   "outputs": [],
   "source": [
    "from selenium import webdriver\n",
    "from selenium.webdriver.chrome.options import Options\n",
    "from tqdm.auto import tqdm\n",
    "from Utils.Utils import loadObjectPickleSnapshot, createObjectPickleSnapshot\n",
    "from Utils.dica33Utils import getAllHrefForArgument, getTextFromArticle"
   ]
  },
  {
   "cell_type": "code",
   "execution_count": null,
   "metadata": {},
   "outputs": [],
   "source": [
    "options = Options()\n",
    "options.headless = True \n",
    "options.add_argument(\"--window-size=1280,1024\")"
   ]
  },
  {
   "cell_type": "code",
   "execution_count": null,
   "metadata": {},
   "outputs": [],
   "source": [
    "driver = webdriver.Chrome(options=options)\n",
    "linkSet = set()\n",
    "\n",
    "linkToSearchList = [\"https://www.dica33.it/esperto-risponde/stomaco/\", \"https://www.dica33.it/esperto-risponde/reflusso/\", \n",
    "                    \"https://www.dica33.it/esperto-risponde/celiachia/\", \"https://www.dica33.it/esperto-risponde/peso/\" ,\n",
    "                    \"https://www.dica33.it/esperto-risponde/domande-stomaco-e-intestino/\", \"https://www.dica33.it/esperto-risponde/domande-mente-e-cervello/\",\n",
    "                    \"https://www.dica33.it/esperto-risponde/domande-scheletro-e-articolazioni/\", \"https://www.dica33.it/esperto-risponde/domande-fegato/\",\n",
    "                    \"https://www.dica33.it/esperto-risponde/domande-pelle/\", \"https://www.dica33.it/esperto-risponde/domande-cuore-circolazione-e-malattie-del-sangue/\",\n",
    "                    \"https://www.dica33.it/esperto-risponde/domande-orecchie-naso-e-gola/\", \"https://www.dica33.it/esperto-risponde/domande-occhio-e-vista/\"\n",
    "                    ]\n",
    "\n",
    "for link in tqdm(linkToSearchList):\n",
    "    linkSet.update(getAllHrefForArgument(driver, link, 70))"
   ]
  },
  {
   "cell_type": "code",
   "execution_count": null,
   "metadata": {},
   "outputs": [],
   "source": [
    "linkSetPath = \"dica33LinkSet.pkl\"\n",
    "createObjectPickleSnapshot(linkSet,linkSetPath)"
   ]
  },
  {
   "cell_type": "code",
   "execution_count": null,
   "metadata": {},
   "outputs": [],
   "source": [
    "linkSetPath = \"dica33LinkSet.pkl\"\n",
    "pickleLinkSet = loadObjectPickleSnapshot(linkSetPath)"
   ]
  },
  {
   "cell_type": "code",
   "execution_count": null,
   "metadata": {},
   "outputs": [],
   "source": [
    "from concurrent.futures import ThreadPoolExecutor\n",
    "from selenium import webdriver\n",
    "from queue import Queue\n",
    "\n",
    "driver_queue = Queue()\n",
    "\n",
    "def create_driver():\n",
    "    driver = webdriver.Chrome()  \n",
    "    driver_queue.put(driver)\n",
    "    return driver\n",
    "\n",
    "\n",
    "num_drivers = 14\n",
    "drivers = [create_driver() for _ in range(num_drivers)]\n",
    "\n",
    "def process_link(link):\n",
    "    driver = driver_queue.get()\n",
    "    try:\n",
    "        result = getTextFromArticle(driver, link)\n",
    "    except Exception as e:\n",
    "        print(f\"Error processing link {link}: {str(e)}\")\n",
    "    finally:\n",
    "        driver_queue.put(driver)\n",
    "    return result\n",
    "\n",
    "with ThreadPoolExecutor(max_workers=num_drivers) as executor:\n",
    "    results = list(tqdm(executor.map(process_link, pickleLinkSet), total=len(pickleLinkSet)))"
   ]
  },
  {
   "cell_type": "code",
   "execution_count": null,
   "metadata": {},
   "outputs": [],
   "source": [
    "import pandas as pd\n",
    "df = pd.DataFrame(results)\n",
    "df.to_pickle(\"dica33DataNotClean.pkl\")"
   ]
  }
 ],
 "metadata": {
  "kernelspec": {
   "display_name": ".venv",
   "language": "python",
   "name": "python3"
  },
  "language_info": {
   "codemirror_mode": {
    "name": "ipython",
    "version": 3
   },
   "file_extension": ".py",
   "mimetype": "text/x-python",
   "name": "python",
   "nbconvert_exporter": "python",
   "pygments_lexer": "ipython3",
   "version": "3.12.1"
  }
 },
 "nbformat": 4,
 "nbformat_minor": 2
}
