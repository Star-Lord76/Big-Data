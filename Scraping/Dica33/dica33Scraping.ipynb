{
 "cells": [
  {
   "cell_type": "code",
   "execution_count": null,
   "metadata": {},
   "outputs": [],
   "source": [
    "import sys\n",
    "sys.path.append(\"../../.\")"
   ]
  },
  {
   "cell_type": "code",
   "execution_count": null,
   "metadata": {},
   "outputs": [],
   "source": [
    "from selenium import webdriver\n",
    "from selenium.webdriver.chrome.options import Options\n",
    "from tqdm.auto import tqdm\n",
    "from Utils.Utils import loadObjectPickleSnapshot, createObjectPickleSnapshot\n",
    "from Utils.dica33Utils import getAllHrefForArgument, getTextFromArticle"
   ]
  },
  {
   "cell_type": "code",
   "execution_count": null,
   "metadata": {},
   "outputs": [],
   "source": [
    "options = Options()\n",
    "options.headless = True \n",
    "options.add_argument(\"--window-size=1280,1024\")"
   ]
  },
  {
   "cell_type": "code",
   "execution_count": null,
   "metadata": {},
   "outputs": [],
   "source": [
    "driver = webdriver.Chrome(options=options)\n",
    "linkSet = set()\n",
    "\n",
    "linkToSearchList = [\"https://www.dica33.it/esperto-risponde/stomaco/\", \"https://www.dica33.it/esperto-risponde/reflusso/\", \n",
    "                    \"https://www.dica33.it/esperto-risponde/celiachia/\", \"https://www.dica33.it/esperto-risponde/peso/\" ,\n",
    "                    \"https://www.dica33.it/esperto-risponde/domande-stomaco-e-intestino/\", \"https://www.dica33.it/esperto-risponde/domande-mente-e-cervello/\",\n",
    "                    \"https://www.dica33.it/esperto-risponde/domande-scheletro-e-articolazioni/\", \"https://www.dica33.it/esperto-risponde/domande-fegato/\",\n",
    "                    \"https://www.dica33.it/esperto-risponde/domande-pelle/\", \"https://www.dica33.it/esperto-risponde/domande-cuore-circolazione-e-malattie-del-sangue/\",\n",
    "                    \"https://www.dica33.it/esperto-risponde/domande-orecchie-naso-e-gola/\", \"https://www.dica33.it/esperto-risponde/domande-occhio-e-vista/\"\n",
    "                    ]\n",
    "\n",
    "for link in tqdm(linkToSearchList):\n",
    "    linkSet.update(getAllHrefForArgument(driver, link, 70))"
   ]
  },
  {
   "cell_type": "code",
   "execution_count": null,
   "metadata": {},
   "outputs": [],
   "source": [
    "linkSetPath = \"dica33LinkSet.pkl\"\n",
    "createObjectPickleSnapshot(linkSet,linkSetPath)"
   ]
  },
  {
   "cell_type": "code",
   "execution_count": 7,
   "metadata": {},
   "outputs": [],
   "source": [
    "linkSetPath = \"dica33LinkSet.pkl\"\n",
    "pickleLinkSet = loadObjectPickleSnapshot(linkSetPath)"
   ]
  },
  {
   "cell_type": "code",
   "execution_count": 11,
   "metadata": {},
   "outputs": [
    {
     "data": {
      "application/vnd.jupyter.widget-view+json": {
       "model_id": "4e9d3d06e551473894a7c1cdad1ccb05",
       "version_major": 2,
       "version_minor": 0
      },
      "text/plain": [
       "  0%|          | 0/1 [00:00<?, ?it/s]"
      ]
     },
     "metadata": {},
     "output_type": "display_data"
    }
   ],
   "source": [
    "from concurrent.futures import ThreadPoolExecutor\n",
    "from selenium import webdriver\n",
    "from queue import Queue\n",
    "\n",
    "driver_queue = Queue()\n",
    "\n",
    "def create_driver():\n",
    "    driver = webdriver.Chrome()  \n",
    "    driver_queue.put(driver)\n",
    "    return driver\n",
    "\n",
    "\n",
    "num_drivers = 10\n",
    "drivers = [create_driver() for _ in range(num_drivers)]\n",
    "\n",
    "def process_link(link):\n",
    "    driver = driver_queue.get()\n",
    "    try:\n",
    "        result = getTextFromArticle(driver, link)\n",
    "    except Exception as e:\n",
    "        print(f\"Error processing link {link}: {str(e)}\")\n",
    "    finally:\n",
    "        driver_queue.put(driver)\n",
    "    return (result, link)\n",
    "\n",
    "with ThreadPoolExecutor(max_workers=num_drivers) as executor:\n",
    "    results = list(tqdm(executor.map(process_link, pickleLinkSet), total=len(pickleLinkSet)))"
   ]
  },
  {
   "cell_type": "code",
   "execution_count": 13,
   "metadata": {},
   "outputs": [],
   "source": [
    "import pandas as pd\n",
    "df = pd.DataFrame(results)\n",
    "df.to_pickle(\"dica33DataNotClean.pkl\")"
   ]
  },
  {
   "cell_type": "code",
   "execution_count": 20,
   "metadata": {},
   "outputs": [
    {
     "data": {
      "text/plain": [
       "[\"Domande e risposte »\\nRisposte di Occhio e vista »\\n\\n21 giugno 2007\\nCataratte urgente!\\nMia nonna, 65 enne soffre da 30 anni di artrite reumatoide.\\nL'anno scorso gli è comparsa una malattia alla pelle:la pemfigoide bollosa, è stata trattata con flebo di cortisone e le bolle sono scomparse.\\nAttualmente a casa continua la cura per la pemfigoide con pillole di cortisone, inoltre ha problemi di Diabete e fa 3 volte al giorno punture di insulina.\\nLe scrivo tutto questo prima di parlarle della sua malattia agli occhi ( che abbiamo scoperto oggi tramite visita oculistica ), per farle un pò capire le sue condizioni generali di salute.\\nLa diagnosi della visita eseguita agli occhi oggi è stata: cataratte in entrambi gli occhi, per cui la dottoressa ha consigliato di eseguire un operazione col laser per risolvere il problema.\\nLei cosa ne pensa considerando che mia nonna ha altre complicanze quali ad esempio il Diabete ?\\nE'un intervento rischioso?\\nGrazie mille\\n\\nRisposta del 30 giugno 2007\\n\\nRisposta a cura di:\\nDott. MARCO ALBERTI\\n\\nSe la nonna è già praticamente non vedente c'è poco da fare, non è chiara l'operazione laser? se deve fare la Cataratta non centra il laser se ha la retinopatia diabetica deve forse fare prima il laser ? Date le condizioni generali non è più rischioso l'intervento di Cataratta di per se' quanto tutto il quadro clinico.\\n\\nDott. Marco Alberti\\nCasa di cura privata\\nSpecialista convenzionato\\nSpecialista attività privata\\nSpecialista in Oftalmologia\\nMILANO (MI)\\n\\nArticoli, focus e approfondimenti di Occhio e vista\\n\\n\\nUltime risposte di Occhio e vista\\nOcchio piu sporgente dell'altro\\nZoster oftamico e iridicicle\\nParere\\nIpermetropia elevata\\nCollirio post operazione cataratta\\nAbbassamento palpebra occhio sinistro\\nOculistica\\nCataratta con herpes zooster\\nSignificato sigle\\nRicostruzione palpebra inferiore\\nInvia una domanda\\nI medici saranno lieti di rispondere a tutti i tuoi dubbi!\\nInvia una domanda\",\n",
       " 'FROM_TEXT']"
      ]
     },
     "execution_count": 20,
     "metadata": {},
     "output_type": "execute_result"
    }
   ],
   "source": [
    "df[0][0][0]"
   ]
  }
 ],
 "metadata": {
  "kernelspec": {
   "display_name": ".venv",
   "language": "python",
   "name": "python3"
  },
  "language_info": {
   "codemirror_mode": {
    "name": "ipython",
    "version": 3
   },
   "file_extension": ".py",
   "mimetype": "text/x-python",
   "name": "python",
   "nbconvert_exporter": "python",
   "pygments_lexer": "ipython3",
   "version": "3.12.1"
  }
 },
 "nbformat": 4,
 "nbformat_minor": 2
}
