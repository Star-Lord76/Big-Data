{
 "cells": [
  {
   "cell_type": "code",
   "execution_count": 1,
   "metadata": {},
   "outputs": [],
   "source": [
    "import sys\n",
    "sys.path.append(\"../.\")\n",
    "import pandas as pd\n",
    "import Utils.dica33Utils as ut"
   ]
  },
  {
   "cell_type": "code",
   "execution_count": 2,
   "metadata": {},
   "outputs": [],
   "source": [
    "df = pd.read_pickle(\"dica33DataNotClean.pkl\")"
   ]
  },
  {
   "cell_type": "code",
   "execution_count": null,
   "metadata": {},
   "outputs": [],
   "source": [
    "def cleanAndPrint(element: object) -> None:\n",
    "    if element[1] == \"FROM_TEXT\":\n",
    "        domanda = ut.cleanDomandaFromText(element[0])\n",
    "    else:\n",
    "        domanda = ut.cleanDomandaFromContent(element[0])\n",
    "        \n",
    "    if element[1] == \"FROM_TEXT\":\n",
    "        risposta = ut.cleanRispostaFromText(element[0])\n",
    "    else:\n",
    "        risposta = ut.cleanRispostaFromContent(element[0])\n",
    "\n",
    "    ut.printToFile(title=domanda[0], domanda=domanda[1], risposta=risposta)\n",
    "    \n"
   ]
  },
  {
   "cell_type": "code",
   "execution_count": null,
   "metadata": {},
   "outputs": [],
   "source": [
    "df.apply(cleanAndPrint, axis=1)"
   ]
  },
  {
   "cell_type": "code",
   "execution_count": 3,
   "metadata": {},
   "outputs": [
    {
     "name": "stdout",
     "output_type": "stream",
     "text": [
      "FROM_TEXT\n",
      "Risposta del 16 luglio 2010\n",
      "\n",
      "Risposta a cura di:\n",
      "Dott. FRANCESCO GEDDA\n",
      "\n",
      "L'unica terapia definitiva delle fistole dell'orecchio (fistola auris congenita) è quella chirurgica, di asportazione. L'intervento è spesso fattibile in anestesia locale, ma, in rari casi - quando la malformazione congenita è più complessa-, richiede una narcosi.\n",
      "\n",
      "Dott. Francesco Gedda\n",
      "Medico Ospedaliero\n",
      "Specialista attività privata\n",
      "Specialista in Otorinolaringoiatria\n",
      "Torino (TO)\n",
      "L'unica terapia definitiva delle fistole dell'orecchio (fistola auris congenita) è quella chirurgica, di asportazione. L'intervento è spesso fattibile in anestesia locale, ma, in rari casi - quando la malformazione congenita è più complessa-, richiede una narcosi.\n"
     ]
    }
   ],
   "source": [
    "i = 1\n",
    "print(df.iloc[i,1][1])\n",
    "print(df.iloc[i,1][0])\n",
    "print(ut.cleanRispostaFromText(df.iloc[i,1][0]))"
   ]
  }
 ],
 "metadata": {
  "kernelspec": {
   "display_name": ".venv",
   "language": "python",
   "name": "python3"
  },
  "language_info": {
   "codemirror_mode": {
    "name": "ipython",
    "version": 3
   },
   "file_extension": ".py",
   "mimetype": "text/x-python",
   "name": "python",
   "nbconvert_exporter": "python",
   "pygments_lexer": "ipython3",
   "version": "3.12.1"
  }
 },
 "nbformat": 4,
 "nbformat_minor": 2
}
