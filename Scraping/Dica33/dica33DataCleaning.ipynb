{
 "cells": [
  {
   "cell_type": "code",
   "execution_count": 1,
   "metadata": {},
   "outputs": [],
   "source": [
    "import sys\n",
    "sys.path.append(\"../../.\")\n",
    "import pandas as pd\n",
    "import Utils.dica33Utils as ut"
   ]
  },
  {
   "cell_type": "code",
   "execution_count": 2,
   "metadata": {},
   "outputs": [],
   "source": [
    "df = pd.read_pickle(\"dica33DataNotClean.pkl\")"
   ]
  },
  {
   "cell_type": "code",
   "execution_count": 3,
   "metadata": {},
   "outputs": [],
   "source": [
    "def cleanAndPrint(element: object) -> None:\n",
    "    domanda = element[0]\n",
    "    try:\n",
    "        if domanda[1] == \"FROM_TEXT\":\n",
    "            domandaCleaned = ut.cleanDomandaFromText(domanda[0])\n",
    "        else:\n",
    "            domandaCleaned = ut.cleanDomandaFromContent(domanda[0])\n",
    "        risposta = element[1]\n",
    "        if risposta[1] == \"FROM_TEXT\":\n",
    "            rispostaCleaned = ut.cleanRispostaFromText(risposta[0])\n",
    "        else:\n",
    "            rispostaCleaned = ut.cleanRispostaFromContent(risposta[0])\n",
    "        ut.printToFile(title=domandaCleaned[0], domanda=domandaCleaned[1], risposta=rispostaCleaned, date=domandaCleaned[2])\n",
    "    except:\n",
    "        pass\n",
    "\n",
    "    \n"
   ]
  },
  {
   "cell_type": "code",
   "execution_count": 4,
   "metadata": {},
   "outputs": [
    {
     "data": {
      "text/plain": [
       "0        None\n",
       "1        None\n",
       "2        None\n",
       "3        None\n",
       "4        None\n",
       "         ... \n",
       "12710    None\n",
       "12711    None\n",
       "12712    None\n",
       "12713    None\n",
       "12714    None\n",
       "Length: 12715, dtype: object"
      ]
     },
     "execution_count": 4,
     "metadata": {},
     "output_type": "execute_result"
    }
   ],
   "source": [
    "df.apply(cleanAndPrint, axis=1)"
   ]
  }
 ],
 "metadata": {
  "kernelspec": {
   "display_name": ".venv",
   "language": "python",
   "name": "python3"
  },
  "language_info": {
   "codemirror_mode": {
    "name": "ipython",
    "version": 3
   },
   "file_extension": ".py",
   "mimetype": "text/x-python",
   "name": "python",
   "nbconvert_exporter": "python",
   "pygments_lexer": "ipython3",
   "version": "3.12.1"
  }
 },
 "nbformat": 4,
 "nbformat_minor": 2
}
