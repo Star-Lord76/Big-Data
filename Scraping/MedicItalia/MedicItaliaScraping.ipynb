{
 "cells": [
  {
   "cell_type": "code",
   "execution_count": 1,
   "metadata": {},
   "outputs": [],
   "source": [
    "import sys\n",
    "sys.path.append(\"../../.\")"
   ]
  },
  {
   "cell_type": "code",
   "execution_count": 2,
   "metadata": {},
   "outputs": [],
   "source": [
    "from selenium import webdriver\n",
    "from selenium.webdriver.chrome.options import Options\n",
    "from selenium.webdriver.support.ui import WebDriverWait\n",
    "from selenium.webdriver.support import expected_conditions as EC\n",
    "from selenium.webdriver.common.by import By\n",
    "from tqdm.auto import tqdm\n",
    "from Utils.Medic1Utils import getAllHrefForArgument, getTextFromArticle\n",
    "from Utils.Utils import createObjectPickleSnapshot"
   ]
  },
  {
   "cell_type": "code",
   "execution_count": 3,
   "metadata": {},
   "outputs": [],
   "source": [
    "options = Options()\n",
    "options.headless = True\n",
    "options.add_argument(\"--window-size=1280,1024\")"
   ]
  },
  {
   "cell_type": "code",
   "execution_count": 4,
   "metadata": {},
   "outputs": [
    {
     "ename": "NameError",
     "evalue": "name 'By' is not defined",
     "output_type": "error",
     "traceback": [
      "\u001b[1;31m---------------------------------------------------------------------------\u001b[0m",
      "\u001b[1;31mNameError\u001b[0m                                 Traceback (most recent call last)",
      "Cell \u001b[1;32mIn[4], line 19\u001b[0m\n\u001b[0;32m      5\u001b[0m linkToSearchList \u001b[38;5;241m=\u001b[39m [\u001b[38;5;124m\"\u001b[39m\u001b[38;5;124mhttps://www.medicitalia.it/consulti/?tag=celiachia\u001b[39m\u001b[38;5;124m\"\u001b[39m,\n\u001b[0;32m      6\u001b[0m                     \u001b[38;5;124m\"\u001b[39m\u001b[38;5;124mhttps://www.medicitalia.it/consulti/?tag=asma\u001b[39m\u001b[38;5;124m\"\u001b[39m,\n\u001b[0;32m      7\u001b[0m                     \u001b[38;5;124m\"\u001b[39m\u001b[38;5;124mhttps://www.medicitalia.it/consulti/?tag=allergia\u001b[39m\u001b[38;5;124m\"\u001b[39m,\n\u001b[1;32m   (...)\u001b[0m\n\u001b[0;32m     14\u001b[0m                     \u001b[38;5;124m\"\u001b[39m\u001b[38;5;124mhttps://www.medicitalia.it/consulti/?tag=salute-orale\u001b[39m\u001b[38;5;124m\"\u001b[39m\n\u001b[0;32m     15\u001b[0m                     ]\n\u001b[0;32m     18\u001b[0m driver\u001b[38;5;241m.\u001b[39mget(linkToSearchList[\u001b[38;5;241m0\u001b[39m])\n\u001b[1;32m---> 19\u001b[0m accept_cookies_button \u001b[38;5;241m=\u001b[39m WebDriverWait(driver, \u001b[38;5;241m10\u001b[39m)\u001b[38;5;241m.\u001b[39muntil( EC\u001b[38;5;241m.\u001b[39mpresence_of_element_located((\u001b[43mBy\u001b[49m\u001b[38;5;241m.\u001b[39mID, \u001b[38;5;124m\"\u001b[39m\u001b[38;5;124mpt-accept-all\u001b[39m\u001b[38;5;124m\"\u001b[39m)))     \n\u001b[0;32m     20\u001b[0m accept_cookies_button\u001b[38;5;241m.\u001b[39mclick()\n\u001b[0;32m     21\u001b[0m \u001b[38;5;28;01mfor\u001b[39;00m link \u001b[38;5;129;01min\u001b[39;00m tqdm(linkToSearchList):\n",
      "\u001b[1;31mNameError\u001b[0m: name 'By' is not defined"
     ]
    }
   ],
   "source": [
    "driver = webdriver.Chrome(options=options)\n",
    "linkSetPath = \"Medic1LinkSet.pkl\"\n",
    "linkSet = set()\n",
    "\n",
    "linkToSearchList = [\"https://www.medicitalia.it/consulti/?tag=celiachia\",\n",
    "                    \"https://www.medicitalia.it/consulti/?tag=asma\",\n",
    "                    \"https://www.medicitalia.it/consulti/?tag=allergia\",\n",
    "                    \"https://www.medicitalia.it/consulti/?tag=insonnia\",\n",
    "                    \"https://www.medicitalia.it/consulti/?tag=emicrania\",\n",
    "                    \"https://www.medicitalia.it/consulti/?tag=malattia-di-alzheimer\",\n",
    "                    \"https://www.medicitalia.it/consulti/?tag=diabete\",\n",
    "                    \"https://www.medicitalia.it/consulti/?tag=disturbi-della-vista\",\n",
    "                    \"https://www.medicitalia.it/consulti/?tag=dermatite\",\n",
    "                    \"https://www.medicitalia.it/consulti/?tag=salute-orale\"\n",
    "                    ]\n",
    "\n",
    "\n",
    "driver.get(linkToSearchList[0])\n",
    "accept_cookies_button = WebDriverWait(driver, 10).until( EC.presence_of_element_located((By.ID, \"pt-accept-all\")))     \n",
    "accept_cookies_button.click()\n",
    "for link in tqdm(linkToSearchList):\n",
    "    linkSet.update(getAllHrefForArgument(driver, link, 100))\n",
    "driver.quit()"
   ]
  },
  {
   "cell_type": "code",
   "execution_count": null,
   "metadata": {},
   "outputs": [],
   "source": [
    "linkSetPath = \"MedicItaliaLinkSet.pkl\"\n",
    "createObjectPickleSnapshot(linkSet, linkSetPath)"
   ]
  },
  {
   "cell_type": "code",
   "execution_count": null,
   "metadata": {},
   "outputs": [],
   "source": [
    "from Utils import loadObjectPickleSnapshot\n",
    "\n",
    "\n",
    "linkSetPath = \"MedicItaliaLinkSet.pkl\"\n",
    "pickleLinkSet = loadObjectPickleSnapshot(linkSetPath)"
   ]
  },
  {
   "cell_type": "code",
   "execution_count": null,
   "metadata": {},
   "outputs": [],
   "source": [
    "from concurrent.futures import ThreadPoolExecutor\n",
    "from selenium import webdriver\n",
    "from queue import Queue\n",
    "\n",
    "driver_queue = Queue()\n",
    "\n",
    "\n",
    "def create_driver():\n",
    "    driver = webdriver.Chrome()\n",
    "    driver_queue.put(driver)\n",
    "    return driver\n",
    "\n",
    "\n",
    "num_drivers = 14\n",
    "drivers = [create_driver() for _ in range(num_drivers)]\n",
    "\n",
    "\n",
    "def process_link(link):\n",
    "    driver = driver_queue.get()\n",
    "    try:\n",
    "        result = getTextFromArticle(driver, link)\n",
    "    except Exception as e:\n",
    "        print(f\"Error processing link {link}: {str(e)}\")\n",
    "    finally:\n",
    "        driver_queue.put(driver)\n",
    "    return result\n",
    "\n",
    "\n",
    "with ThreadPoolExecutor(max_workers=num_drivers) as executor:\n",
    "    results = list(\n",
    "        tqdm(executor.map(process_link, pickleLinkSet), total=len(pickleLinkSet)))"
   ]
  },
  {
   "cell_type": "code",
   "execution_count": null,
   "metadata": {},
   "outputs": [],
   "source": [
    "import pandas as pd\n",
    "df = pd.DataFrame(results)\n",
    "df.to_pickle(\"MedicItaliaDataNotClean.pkl\")"
   ]
  }
 ],
 "metadata": {
  "kernelspec": {
   "display_name": ".venv",
   "language": "python",
   "name": "python3"
  },
  "language_info": {
   "codemirror_mode": {
    "name": "ipython",
    "version": 3
   },
   "file_extension": ".py",
   "mimetype": "text/x-python",
   "name": "python",
   "nbconvert_exporter": "python",
   "pygments_lexer": "ipython3",
   "version": "3.12.1"
  }
 },
 "nbformat": 4,
 "nbformat_minor": 2
}
