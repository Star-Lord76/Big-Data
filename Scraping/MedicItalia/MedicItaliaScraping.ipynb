{
 "cells": [
  {
   "cell_type": "code",
   "execution_count": null,
   "metadata": {},
   "outputs": [],
   "source": [
    "import sys\n",
    "sys.path.append(\"../.\")"
   ]
  },
  {
   "cell_type": "code",
   "execution_count": null,
   "metadata": {},
   "outputs": [],
   "source": [
    "from selenium import webdriver\n",
    "from selenium.webdriver.chrome.options import Options\n",
    "from selenium.webdriver.support.ui import WebDriverWait\n",
    "from selenium.webdriver.support import expected_conditions as EC\n",
    "from tqdm.auto import tqdm\n",
    "from Utils.Medic1Utils import getAllHrefForArgument, getTextFromArticle\n",
    "from Utils.Utils import createObjectPickleSnapshot"
   ]
  },
  {
   "cell_type": "code",
   "execution_count": null,
   "metadata": {},
   "outputs": [],
   "source": [
    "options = Options()\n",
    "options.headless = True\n",
    "options.add_argument(\"--window-size=1280,1024\")"
   ]
  },
  {
   "cell_type": "code",
   "execution_count": null,
   "metadata": {},
   "outputs": [],
   "source": [
    "driver = webdriver.Chrome(options=options)\n",
    "linkSetPath = \"Medic1LinkSet.pkl\"\n",
    "linkSet = set()\n",
    "\n",
    "linkToSearchList = [\"https://www.medicitalia.it/consulti/?tag=celiachia\",\n",
    "                    \"https://www.medicitalia.it/consulti/?tag=asma\",\n",
    "                    \"https://www.medicitalia.it/consulti/?tag=allergia\",\n",
    "                    \"https://www.medicitalia.it/consulti/?tag=insonnia\",\n",
    "                    \"https://www.medicitalia.it/consulti/?tag=emicrania\",\n",
    "                    \"https://www.medicitalia.it/consulti/?tag=malattia-di-alzheimer\",\n",
    "                    \"https://www.medicitalia.it/consulti/?tag=diabete\",\n",
    "                    \"https://www.medicitalia.it/consulti/?tag=disturbi-della-vista\",\n",
    "                    \"https://www.medicitalia.it/consulti/?tag=dermatite\",\n",
    "                    \"https://www.medicitalia.it/consulti/?tag=salute-orale\"\n",
    "                    ]\n",
    "\n",
    "\n",
    "driver.get(linkToSearchList[0])\n",
    "accept_cookies_button = WebDriverWait(driver, 10).until( EC.presence_of_element_located((By.ID, \"pt-accept-all\")))     \n",
    "accept_cookies_button.click()\n",
    "for link in tqdm(linkToSearchList):\n",
    "    linkSet.update(getAllHrefForArgument(driver, link, 100))\n",
    "driver.quit()"
   ]
  },
  {
   "cell_type": "code",
   "execution_count": null,
   "metadata": {},
   "outputs": [],
   "source": [
    "linkSetPath = \"MedicItaliaLinkSet.pkl\"\n",
    "createObjectPickleSnapshot(linkSet, linkSetPath)"
   ]
  },
  {
   "cell_type": "code",
   "execution_count": null,
   "metadata": {},
   "outputs": [],
   "source": [
    "from Utils import loadObjectPickleSnapshot\n",
    "\n",
    "\n",
    "linkSetPath = \"MedicItaliaLinkSet.pkl\"\n",
    "pickleLinkSet = loadObjectPickleSnapshot(linkSetPath)"
   ]
  },
  {
   "cell_type": "code",
   "execution_count": null,
   "metadata": {},
   "outputs": [],
   "source": [
    "from concurrent.futures import ThreadPoolExecutor\n",
    "from selenium import webdriver\n",
    "from queue import Queue\n",
    "\n",
    "driver_queue = Queue()\n",
    "\n",
    "\n",
    "def create_driver():\n",
    "    driver = webdriver.Chrome()\n",
    "    driver_queue.put(driver)\n",
    "    return driver\n",
    "\n",
    "\n",
    "num_drivers = 14\n",
    "drivers = [create_driver() for _ in range(num_drivers)]\n",
    "\n",
    "\n",
    "def process_link(link):\n",
    "    driver = driver_queue.get()\n",
    "    try:\n",
    "        result = getTextFromArticle(driver, link)\n",
    "    except Exception as e:\n",
    "        print(f\"Error processing link {link}: {str(e)}\")\n",
    "    finally:\n",
    "        driver_queue.put(driver)\n",
    "    return result\n",
    "\n",
    "\n",
    "with ThreadPoolExecutor(max_workers=num_drivers) as executor:\n",
    "    results = list(\n",
    "        tqdm(executor.map(process_link, pickleLinkSet), total=len(pickleLinkSet)))"
   ]
  },
  {
   "cell_type": "code",
   "execution_count": null,
   "metadata": {},
   "outputs": [],
   "source": [
    "import pandas as pd\n",
    "df = pd.DataFrame(results)\n",
    "df.to_pickle(\"MedicItaliaDataNotClean.pkl\")"
   ]
  }
 ],
 "metadata": {
  "kernelspec": {
   "display_name": ".venv",
   "language": "python",
   "name": "python3"
  },
  "language_info": {
   "codemirror_mode": {
    "name": "ipython",
    "version": 3
   },
   "file_extension": ".py",
   "mimetype": "text/x-python",
   "name": "python",
   "nbconvert_exporter": "python",
   "pygments_lexer": "ipython3",
   "version": "3.12.1"
  }
 },
 "nbformat": 4,
 "nbformat_minor": 2
}
