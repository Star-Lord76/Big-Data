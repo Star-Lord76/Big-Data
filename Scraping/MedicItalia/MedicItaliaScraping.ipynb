{
 "cells": [
  {
   "cell_type": "code",
   "execution_count": 2,
   "metadata": {},
   "outputs": [],
   "source": [
    "import sys\n",
    "sys.path.append(\"../.\")"
   ]
  },
  {
   "cell_type": "code",
   "execution_count": 3,
   "metadata": {},
   "outputs": [],
   "source": [
    "from selenium import webdriver\n",
    "from selenium.webdriver.chrome.options import Options\n",
    "from selenium.webdriver.common.by import By\n",
    "from selenium.webdriver.support.ui import WebDriverWait\n",
    "from selenium.webdriver.support import expected_conditions as EC\n",
    "from tqdm.auto import tqdm\n",
    "from Utils.Medic1Utils import getHrefLinks\n",
    "from Utils.Utils import loadObjectPickleSnapshot, createObjectPickleSnapshot"
   ]
  },
  {
   "cell_type": "code",
   "execution_count": 4,
   "metadata": {},
   "outputs": [],
   "source": [
    "options = Options()\n",
    "options.headless = True\n",
    "options.add_argument(\"--window-size=1280,1024\")"
   ]
  },
  {
   "cell_type": "code",
   "execution_count": 5,
   "metadata": {},
   "outputs": [],
   "source": [
    "def getAllHrefForArgument(driver: webdriver.Chrome, link: str, numeroPagine: int) -> set[str]:\n",
    "    \"\"\"\n",
    "    This Python function retrieves all href links from a specified number of pages of a given website\n",
    "    using a WebDriver.\n",
    "\n",
    "    :param driver: The `driver` parameter is an instance of the `webdriver.Chrome` class, which is\n",
    "    typically used in Selenium to automate web browsers for testing or web scraping purposes\n",
    "    :type driver: webdriver.Chrome\n",
    "    :param link: The `link` parameter in the `getAllHrefForArgument` function is a string that\n",
    "    represents the URL of a webpage from which you want to extract href links\n",
    "    :type link: str\n",
    "    :param numeroPagine: The `numeroPagine` parameter in the `getAllHrefForArgument` function represents\n",
    "    the total number of pages to iterate through when scraping href links from a website. This parameter\n",
    "    determines how many pages the function will visit to collect the href links\n",
    "    :type numeroPagine: int\n",
    "    :return: A set of strings containing all the href links found on the specified number of pages\n",
    "    starting from the given link.\n",
    "    \"\"\"\n",
    "    linkSet = set()\n",
    "    for currentIndex in tqdm(range(1, numeroPagine+1)):\n",
    "        linkWithPage = link + f\"&pagina={currentIndex}\"\n",
    "        \n",
    "        driver.get(linkWithPage)\n",
    "        \n",
    "        try:\n",
    "            WebDriverWait(driver, 5).until(\n",
    "                EC.presence_of_element_located((By.CLASS_NAME, 'titconsulto')))\n",
    "        except Exception as e:\n",
    "            return linkSet\n",
    "        elencoWebElementList = driver.find_elements(By.CLASS_NAME, \"titconsulto\")\n",
    "        linkSet.update(getHrefLinks(elencoWebElementList))\n",
    "    return linkSet"
   ]
  },
  {
   "cell_type": "code",
   "execution_count": 6,
   "metadata": {},
   "outputs": [],
   "source": [
    "def getTextFromArticle(driver: webdriver.Chrome, link: str) -> str:\n",
    "    \"\"\"\n",
    "    This Python function uses Selenium to extract text content from a specified article link and then\n",
    "    processes the text to return a tuple containing questions and answers.\n",
    "\n",
    "    :param link: The `link` parameter in the `getTextFromArticle` function is a string that represents\n",
    "    the URL of the article from which you want to extract text\n",
    "    :type link: str\n",
    "    :return: The function `getTextFromArticle` returns a tuple containing a single string element, which\n",
    "    is the result of calling the `getQandA` function on the text content of the article element located\n",
    "    by its class name 'txtArticolo'.\n",
    "    \"\"\"\n",
    "    driver.get(link)\n",
    "    try:\n",
    "        accept_cookies_button = WebDriverWait(driver, 1).until( EC.presence_of_element_located((By.ID, \"pt-accept-all\")))\n",
    "        accept_cookies_button.click()\n",
    "    except:\n",
    "        pass\n",
    "    try:\n",
    "        questionWebElement = WebDriverWait(driver, 10).until(\n",
    "            EC.presence_of_element_located(\n",
    "                (By.ID, 'question'))\n",
    "        )\n",
    "        questionText = questionWebElement.get_attribute(\"outerText\")\n",
    "        if (questionText is None or questionText == \"\"):\n",
    "            print(\"QUESTION IS EMPTY\")\n",
    "\n",
    "\n",
    "        return questionText\n",
    "    \n",
    "    except:\n",
    "        print(\"Timed out waiting for page to load\")\n",
    "        return\n",
    "    "
   ]
  },
  {
   "cell_type": "code",
   "execution_count": 7,
   "metadata": {},
   "outputs": [
    {
     "data": {
      "application/vnd.jupyter.widget-view+json": {
       "model_id": "893bf78681434f64881129a85e71d89a",
       "version_major": 2,
       "version_minor": 0
      },
      "text/plain": [
       "  0%|          | 0/10 [00:00<?, ?it/s]"
      ]
     },
     "metadata": {},
     "output_type": "display_data"
    },
    {
     "data": {
      "application/vnd.jupyter.widget-view+json": {
       "model_id": "be752e9f2cf54920814c6a72f4849c86",
       "version_major": 2,
       "version_minor": 0
      },
      "text/plain": [
       "  0%|          | 0/100 [00:00<?, ?it/s]"
      ]
     },
     "metadata": {},
     "output_type": "display_data"
    },
    {
     "data": {
      "application/vnd.jupyter.widget-view+json": {
       "model_id": "decd7e5af0424836b99c0c6e1806192a",
       "version_major": 2,
       "version_minor": 0
      },
      "text/plain": [
       "  0%|          | 0/100 [00:00<?, ?it/s]"
      ]
     },
     "metadata": {},
     "output_type": "display_data"
    },
    {
     "data": {
      "application/vnd.jupyter.widget-view+json": {
       "model_id": "31f0a63436a24a14939ef9c64b663cc7",
       "version_major": 2,
       "version_minor": 0
      },
      "text/plain": [
       "  0%|          | 0/100 [00:00<?, ?it/s]"
      ]
     },
     "metadata": {},
     "output_type": "display_data"
    },
    {
     "data": {
      "application/vnd.jupyter.widget-view+json": {
       "model_id": "3226480c31ec4d8293df68c86c98c1b1",
       "version_major": 2,
       "version_minor": 0
      },
      "text/plain": [
       "  0%|          | 0/100 [00:00<?, ?it/s]"
      ]
     },
     "metadata": {},
     "output_type": "display_data"
    },
    {
     "data": {
      "application/vnd.jupyter.widget-view+json": {
       "model_id": "8cac3041812147e8ba204f8c7f7f9b4f",
       "version_major": 2,
       "version_minor": 0
      },
      "text/plain": [
       "  0%|          | 0/100 [00:00<?, ?it/s]"
      ]
     },
     "metadata": {},
     "output_type": "display_data"
    },
    {
     "data": {
      "application/vnd.jupyter.widget-view+json": {
       "model_id": "1db1e1ed5a6944c9aa68b5f7144a1b61",
       "version_major": 2,
       "version_minor": 0
      },
      "text/plain": [
       "  0%|          | 0/100 [00:00<?, ?it/s]"
      ]
     },
     "metadata": {},
     "output_type": "display_data"
    },
    {
     "data": {
      "application/vnd.jupyter.widget-view+json": {
       "model_id": "e9ebbd8e2e854441b45014fb08dec6f8",
       "version_major": 2,
       "version_minor": 0
      },
      "text/plain": [
       "  0%|          | 0/100 [00:00<?, ?it/s]"
      ]
     },
     "metadata": {},
     "output_type": "display_data"
    },
    {
     "data": {
      "application/vnd.jupyter.widget-view+json": {
       "model_id": "4cefe46720a9466ea5b55e6703fb54f3",
       "version_major": 2,
       "version_minor": 0
      },
      "text/plain": [
       "  0%|          | 0/100 [00:00<?, ?it/s]"
      ]
     },
     "metadata": {},
     "output_type": "display_data"
    },
    {
     "data": {
      "application/vnd.jupyter.widget-view+json": {
       "model_id": "30feae6791c3432195fce738ccd559e7",
       "version_major": 2,
       "version_minor": 0
      },
      "text/plain": [
       "  0%|          | 0/100 [00:00<?, ?it/s]"
      ]
     },
     "metadata": {},
     "output_type": "display_data"
    },
    {
     "data": {
      "application/vnd.jupyter.widget-view+json": {
       "model_id": "08ac124460fc45c89091130e7f38d9ca",
       "version_major": 2,
       "version_minor": 0
      },
      "text/plain": [
       "  0%|          | 0/100 [00:00<?, ?it/s]"
      ]
     },
     "metadata": {},
     "output_type": "display_data"
    }
   ],
   "source": [
    "driver = webdriver.Chrome(options=options)\n",
    "linkSetPath = \"Medic1LinkSet.pkl\"\n",
    "linkSet = set()\n",
    "\n",
    "linkToSearchList = [\"https://www.medicitalia.it/consulti/?tag=celiachia\",\n",
    "                    \"https://www.medicitalia.it/consulti/?tag=asma\",\n",
    "                    \"https://www.medicitalia.it/consulti/?tag=allergia\",\n",
    "                    \"https://www.medicitalia.it/consulti/?tag=insonnia\",\n",
    "                    \"https://www.medicitalia.it/consulti/?tag=emicrania\",\n",
    "                    \"https://www.medicitalia.it/consulti/?tag=malattia-di-alzheimer\",\n",
    "                    \"https://www.medicitalia.it/consulti/?tag=diabete\",\n",
    "                    \"https://www.medicitalia.it/consulti/?tag=disturbi-della-vista\",\n",
    "                    \"https://www.medicitalia.it/consulti/?tag=dermatite\",\n",
    "                    \"https://www.medicitalia.it/consulti/?tag=salute-orale\"\n",
    "                    ]\n",
    "\n",
    "\n",
    "driver.get(linkToSearchList[0])\n",
    "accept_cookies_button = WebDriverWait(driver, 10).until( EC.presence_of_element_located((By.ID, \"pt-accept-all\")))     \n",
    "accept_cookies_button.click()\n",
    "for link in tqdm(linkToSearchList):\n",
    "    linkSet.update(getAllHrefForArgument(driver, link, 100))\n",
    "driver.quit()"
   ]
  },
  {
   "cell_type": "code",
   "execution_count": 8,
   "metadata": {},
   "outputs": [
    {
     "ename": "ImportError",
     "evalue": "cannot import name 'createObjectPickleSnapshot' from 'Utils' (d:\\Nico\\Documenti\\GitHub\\Big-Data\\Scraping\\MedicItalia\\../.\\Utils\\__init__.py)",
     "output_type": "error",
     "traceback": [
      "\u001b[1;31m---------------------------------------------------------------------------\u001b[0m",
      "\u001b[1;31mImportError\u001b[0m                               Traceback (most recent call last)",
      "Cell \u001b[1;32mIn[8], line 1\u001b[0m\n\u001b[1;32m----> 1\u001b[0m \u001b[38;5;28;01mfrom\u001b[39;00m \u001b[38;5;21;01mUtils\u001b[39;00m \u001b[38;5;28;01mimport\u001b[39;00m createObjectPickleSnapshot\n\u001b[0;32m      3\u001b[0m linkSetPath \u001b[38;5;241m=\u001b[39m \u001b[38;5;124m\"\u001b[39m\u001b[38;5;124mMedicItaliaLinkSet.pkl\u001b[39m\u001b[38;5;124m\"\u001b[39m\n\u001b[0;32m      4\u001b[0m createObjectPickleSnapshot(linkSet, linkSetPath)\n",
      "\u001b[1;31mImportError\u001b[0m: cannot import name 'createObjectPickleSnapshot' from 'Utils' (d:\\Nico\\Documenti\\GitHub\\Big-Data\\Scraping\\MedicItalia\\../.\\Utils\\__init__.py)"
     ]
    }
   ],
   "source": [
    "linkSetPath = \"MedicItaliaLinkSet.pkl\"\n",
    "createObjectPickleSnapshot(linkSet, linkSetPath)"
   ]
  },
  {
   "cell_type": "code",
   "execution_count": null,
   "metadata": {},
   "outputs": [],
   "source": [
    "from Utils import loadObjectPickleSnapshot\n",
    "\n",
    "\n",
    "linkSetPath = \"MedicItaliaLinkSet.pkl\"\n",
    "pickleLinkSet = loadObjectPickleSnapshot(linkSetPath)"
   ]
  },
  {
   "cell_type": "code",
   "execution_count": null,
   "metadata": {},
   "outputs": [],
   "source": [
    "from concurrent.futures import ThreadPoolExecutor\n",
    "from selenium import webdriver\n",
    "from queue import Queue\n",
    "\n",
    "driver_queue = Queue()\n",
    "\n",
    "\n",
    "def create_driver():\n",
    "    driver = webdriver.Chrome()\n",
    "    driver_queue.put(driver)\n",
    "    return driver\n",
    "\n",
    "\n",
    "num_drivers = 14\n",
    "drivers = [create_driver() for _ in range(num_drivers)]\n",
    "\n",
    "\n",
    "def process_link(link):\n",
    "    driver = driver_queue.get()\n",
    "    try:\n",
    "        result = getTextFromArticle(driver, link)\n",
    "    except Exception as e:\n",
    "        print(f\"Error processing link {link}: {str(e)}\")\n",
    "    finally:\n",
    "        driver_queue.put(driver)\n",
    "    return result\n",
    "\n",
    "\n",
    "with ThreadPoolExecutor(max_workers=num_drivers) as executor:\n",
    "    results = list(\n",
    "        tqdm(executor.map(process_link, pickleLinkSet), total=len(pickleLinkSet)))"
   ]
  },
  {
   "cell_type": "code",
   "execution_count": null,
   "metadata": {},
   "outputs": [],
   "source": [
    "import pandas as pd\n",
    "df = pd.DataFrame(results)\n",
    "df.to_pickle(\"MedicItaliaDataNotClean.pkl\")"
   ]
  }
 ],
 "metadata": {
  "kernelspec": {
   "display_name": ".venv",
   "language": "python",
   "name": "python3"
  },
  "language_info": {
   "codemirror_mode": {
    "name": "ipython",
    "version": 3
   },
   "file_extension": ".py",
   "mimetype": "text/x-python",
   "name": "python",
   "nbconvert_exporter": "python",
   "pygments_lexer": "ipython3",
   "version": "3.12.1"
  }
 },
 "nbformat": 4,
 "nbformat_minor": 2
}
