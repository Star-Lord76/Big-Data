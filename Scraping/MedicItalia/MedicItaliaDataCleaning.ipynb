{
 "cells": [
  {
   "cell_type": "code",
   "execution_count": 1,
   "metadata": {},
   "outputs": [],
   "source": [
    "import sys\n",
    "sys.path.append(\"../.\")"
   ]
  },
  {
   "cell_type": "code",
   "execution_count": 2,
   "metadata": {},
   "outputs": [],
   "source": [
    "import pandas as pd\n",
    "import Utils.Medic1Utils as ut\n",
    "from Utils.Utils import checkDateTimeFormat, stripAndJoin"
   ]
  },
  {
   "cell_type": "code",
   "execution_count": 3,
   "metadata": {},
   "outputs": [],
   "source": [
    "df = pd.read_pickle(\"MedicItaliaDataNotClean.pkl\")"
   ]
  },
  {
   "cell_type": "code",
   "execution_count": 4,
   "metadata": {},
   "outputs": [],
   "source": [
    "def cleanElement(element: str) -> tuple[str]:\n",
    "    \"\"\"\n",
    "    This function cleans and formats a text element containing a consultation conversation,\n",
    "    separating user and doctor messages.\n",
    "\n",
    "    :param element: element to clean\n",
    "    :type element: str\n",
    "    :return: cleaned element\n",
    "    \"\"\"\n",
    "    elementSplitted = element.split(\"\\n\")\n",
    "    entireText = []\n",
    "    for line in elementSplitted:\n",
    "        if \"Questo consulto ha ricevuto\" in line:\n",
    "            break\n",
    "        if \"👉🏻\" not in line and \"Nutricia Fortimel\" not in line:\n",
    "            entireText.append(line)\n",
    "\n",
    "    domandaSplitted = []\n",
    "    indexesToRemove = []\n",
    "    for i, line in enumerate(entireText):\n",
    "        if checkDateTimeFormat(line):\n",
    "            break\n",
    "        domandaSplitted.append(line)\n",
    "        indexesToRemove.append(i)\n",
    "\n",
    "    textSenzaDomanda = []\n",
    "    for i in range(len(entireText)):\n",
    "        if i not in indexesToRemove:\n",
    "            textSenzaDomanda.append(entireText[i])\n",
    "\n",
    "    textSenzaDomanda = textSenzaDomanda[1::]\n",
    "    domanda = \"\\n\".join(domandaSplitted[1::])\n",
    "    posts = ut.divideInPosts(textSenzaDomanda, \"[#\")\n",
    "\n",
    "    cleanedElement = \"\"\n",
    "\n",
    "    cleanedElement += \"###UTENTE###\\n\"\n",
    "    cleanedElement += domanda.strip() + \"\\n\"\n",
    "    for post in posts:\n",
    "        cleanedElement += \"\\n\"\n",
    "        if ut.isPostFromDoctor(post):\n",
    "            cleanedElement += \"###DOTTORE###\\n\"\n",
    "            cleanedElement += stripAndJoin(post[4::]) + \"\\n\"\n",
    "        else:\n",
    "            cleanedElement += \"###UTENTE###\\n\"\n",
    "            cleanedElement += stripAndJoin(post[2::]) + \"\\n\"\n",
    "    return domandaSplitted[0].strip(), cleanedElement"
   ]
  },
  {
   "cell_type": "code",
   "execution_count": 5,
   "metadata": {},
   "outputs": [],
   "source": [
    "import re\n",
    "import time\n",
    "\n",
    "basePath = \"./Data/\"\n",
    "\n",
    "def printTofile(element: str) -> None:\n",
    "    cleanedElement = cleanElement(element)\n",
    "    title = cleanedElement[0].strip().replace(' ', '_')\n",
    "    with open(basePath + re.sub(r'(?u)[^-\\w.]', '', title) + \"_\" + str(time.time()) + \".txt\", 'w', encoding=\"utf-16\") as f:\n",
    "        f.write(cleanedElement[1])\n"
   ]
  },
  {
   "cell_type": "code",
   "execution_count": 6,
   "metadata": {},
   "outputs": [
    {
     "name": "stderr",
     "output_type": "stream",
     "text": [
      "C:\\Users\\nico2\\AppData\\Local\\Temp\\ipykernel_15284\\743398642.py:1: FutureWarning: DataFrame.applymap has been deprecated. Use DataFrame.map instead.\n",
      "  df.applymap(printTofile)\n"
     ]
    },
    {
     "data": {
      "text/html": [
       "<div>\n",
       "<style scoped>\n",
       "    .dataframe tbody tr th:only-of-type {\n",
       "        vertical-align: middle;\n",
       "    }\n",
       "\n",
       "    .dataframe tbody tr th {\n",
       "        vertical-align: top;\n",
       "    }\n",
       "\n",
       "    .dataframe thead th {\n",
       "        text-align: right;\n",
       "    }\n",
       "</style>\n",
       "<table border=\"1\" class=\"dataframe\">\n",
       "  <thead>\n",
       "    <tr style=\"text-align: right;\">\n",
       "      <th></th>\n",
       "      <th>0</th>\n",
       "    </tr>\n",
       "  </thead>\n",
       "  <tbody>\n",
       "    <tr>\n",
       "      <th>0</th>\n",
       "      <td>None</td>\n",
       "    </tr>\n",
       "    <tr>\n",
       "      <th>1</th>\n",
       "      <td>None</td>\n",
       "    </tr>\n",
       "    <tr>\n",
       "      <th>2</th>\n",
       "      <td>None</td>\n",
       "    </tr>\n",
       "    <tr>\n",
       "      <th>3</th>\n",
       "      <td>None</td>\n",
       "    </tr>\n",
       "    <tr>\n",
       "      <th>4</th>\n",
       "      <td>None</td>\n",
       "    </tr>\n",
       "    <tr>\n",
       "      <th>...</th>\n",
       "      <td>...</td>\n",
       "    </tr>\n",
       "    <tr>\n",
       "      <th>18824</th>\n",
       "      <td>None</td>\n",
       "    </tr>\n",
       "    <tr>\n",
       "      <th>18825</th>\n",
       "      <td>None</td>\n",
       "    </tr>\n",
       "    <tr>\n",
       "      <th>18826</th>\n",
       "      <td>None</td>\n",
       "    </tr>\n",
       "    <tr>\n",
       "      <th>18827</th>\n",
       "      <td>None</td>\n",
       "    </tr>\n",
       "    <tr>\n",
       "      <th>18828</th>\n",
       "      <td>None</td>\n",
       "    </tr>\n",
       "  </tbody>\n",
       "</table>\n",
       "<p>18829 rows × 1 columns</p>\n",
       "</div>"
      ],
      "text/plain": [
       "          0\n",
       "0      None\n",
       "1      None\n",
       "2      None\n",
       "3      None\n",
       "4      None\n",
       "...     ...\n",
       "18824  None\n",
       "18825  None\n",
       "18826  None\n",
       "18827  None\n",
       "18828  None\n",
       "\n",
       "[18829 rows x 1 columns]"
      ]
     },
     "execution_count": 6,
     "metadata": {},
     "output_type": "execute_result"
    }
   ],
   "source": [
    "df.applymap(printTofile)"
   ]
  }
 ],
 "metadata": {
  "kernelspec": {
   "display_name": ".venv",
   "language": "python",
   "name": "python3"
  },
  "language_info": {
   "codemirror_mode": {
    "name": "ipython",
    "version": 3
   },
   "file_extension": ".py",
   "mimetype": "text/x-python",
   "name": "python",
   "nbconvert_exporter": "python",
   "pygments_lexer": "ipython3",
   "version": "3.12.1"
  }
 },
 "nbformat": 4,
 "nbformat_minor": 2
}
