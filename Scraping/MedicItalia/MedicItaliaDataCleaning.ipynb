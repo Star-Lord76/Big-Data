{
 "cells": [
  {
   "cell_type": "code",
   "execution_count": 29,
   "metadata": {},
   "outputs": [],
   "source": [
    "import sys\n",
    "sys.path.append(\"../.\")"
   ]
  },
  {
   "cell_type": "code",
   "execution_count": 30,
   "metadata": {},
   "outputs": [],
   "source": [
    "import pandas as pd\n",
    "from Utils.Medic1Utils import checkDateTimeFormat, divideInPosts, isPostFromDoctor, stripAndJoin"
   ]
  },
  {
   "cell_type": "code",
   "execution_count": 31,
   "metadata": {},
   "outputs": [],
   "source": [
    "df = pd.read_pickle(\"MedicItaliaDataNotClean.pkl\")"
   ]
  },
  {
   "cell_type": "code",
   "execution_count": 32,
   "metadata": {},
   "outputs": [],
   "source": [
    "element: str = df.iat[2000,0]\n",
    "elementSplitted = element.split(\"\\n\")"
   ]
  },
  {
   "cell_type": "code",
   "execution_count": 33,
   "metadata": {},
   "outputs": [],
   "source": [
    "add = True\n",
    "entireText = []\n",
    "for line in elementSplitted:\n",
    "    if \"Questo consulto ha ricevuto\" in line:\n",
    "        add = False\n",
    "    if add:\n",
    "        if \"👉🏻\" not in line and \"Nutricia Fortimel\" not in line:\n",
    "            entireText.append(line)"
   ]
  },
  {
   "cell_type": "code",
   "execution_count": 34,
   "metadata": {},
   "outputs": [],
   "source": [
    "domandaSplitted = []\n",
    "indexesToRemove = []\n",
    "\n",
    "for i,line in enumerate(entireText):\n",
    "    if checkDateTimeFormat(line):\n",
    "        break\n",
    "    domandaSplitted.append(line)\n",
    "    indexesToRemove.append(i)\n",
    "    \n",
    "textSenzaDomanda = []\n",
    "for i in range(len(entireText)):\n",
    "    if i not in indexesToRemove:\n",
    "        textSenzaDomanda.append(entireText[i])\n",
    "\n",
    "textSenzaDomanda = textSenzaDomanda[1::]\n",
    "\n",
    "domanda = \"\\n\".join(domandaSplitted)"
   ]
  },
  {
   "cell_type": "code",
   "execution_count": 35,
   "metadata": {},
   "outputs": [
    {
     "name": "stdout",
     "output_type": "stream",
     "text": [
      "###UTENTE###\n",
      "Aiuto problemi intestinali :(\n",
      "Supplementi nutrizionali per pazienti oncologici: come alimentarsi nel modo giusto \n",
      "scrivo qui nel forum perchè non so più a chi rivolgermi...\n",
      "vi racconto il mio problema, tutto è iniziato verso dicembre,\n",
      "avevo dolori addominali e diarre (più che diarrea feci molle e deforme)\n",
      "il tutto iniziava dopo i pasti, accusavo un senso di malessere in tutta la zona addominale che poi uniti all'ansia mi provocava giramenti di testa, nausea e una forte urgenza di andare al bagno...dopo la defecazione stavo leggermente meglio.\n",
      "All'inizio pensavo fosse qualcosa che ho mangiato o un colpo di freddo o un virus, ma è andato a avanti per circa 2 mesi e peggiorava.\n",
      "sono andato dal medico di famiglia e senza visitarmi mi prescrisse 2 antibiotici e delle punture di cortisone perchè secondo lui avevo la colite ulcerosa e sindrome del colon irritabile...premesso che non avevo sangue nelle feci..\n",
      "inizio la cura con l'adeguata alimentazione ma le evaquazioni erano più frequenti 3 volte al dì e molto più molli di un colore marroncino chiaro quasi giallo.. per vari motivi abbiamo litigato col medico e sono andato da un gastrointerologo non che medico, il quale mi disse che al 90% ero celiaco, fatti esami del sangue e prove allergiche è rsultato tutto bene sono sano come un pesce e non ho nessuna allergia alimentare...\n",
      "adesso ho ripreso a mangiare \"normalmente\" (es pasta col sugo e non più in bianco) la diarrea si è ripresentata con un leggero senso di malessere generale durante la digestione, dopo la defecazione sto meglio...\n",
      "\n",
      "premetto che ho fatto una cura di antibiotico per due mesi ottobre e novembre di AUGMENTIN per problemi ai denti più l'AULIN...\n",
      "Augmentin mi ha sempre provacato diarrea ma che passava dopo la cura...siccome ne ho \"abbusato\" per 2 mesi penso che il problema sia dovuto a questo antibiotico... sono anche un tipo molto nervoso e ammetto di aver avuto un periodo di stress e ansia..\n",
      "questo è tutto in linea generale, spero di esser stato chiaro e di avere qualche risposta da voi.. grazie mille\n",
      "\n",
      "###DOTTORE###\n",
      "Gentile signore,\n",
      "è possibile che la diarrea sia collegata ad uno squilibrio della flora batterica intestinale conseguente alla terapia antibiotica.\n",
      "Può esserle di giovamento - se il suo medico è d'accordo - l'assunzione per un breve periodo di fermenti lattici.\n",
      "Cordiali saluti.\n",
      "Alessandro Scuotto, MD, PhD.\n"
     ]
    }
   ],
   "source": [
    "posts = divideInPosts(textSenzaDomanda, \"[#\")\n",
    "\n",
    "print(\"###UTENTE###\")\n",
    "print(domanda)\n",
    "\n",
    "for post in posts:\n",
    "    print()\n",
    "    if isPostFromDoctor(post):\n",
    "        print(\"###DOTTORE###\")\n",
    "        print(stripAndJoin(post[4::]))\n",
    "    else:\n",
    "        print(\"###UTENTE###\")\n",
    "        print(stripAndJoin(post[2::]))\n",
    "    "
   ]
  }
 ],
 "metadata": {
  "kernelspec": {
   "display_name": ".venv",
   "language": "python",
   "name": "python3"
  },
  "language_info": {
   "codemirror_mode": {
    "name": "ipython",
    "version": 3
   },
   "file_extension": ".py",
   "mimetype": "text/x-python",
   "name": "python",
   "nbconvert_exporter": "python",
   "pygments_lexer": "ipython3",
   "version": "3.12.1"
  }
 },
 "nbformat": 4,
 "nbformat_minor": 2
}
