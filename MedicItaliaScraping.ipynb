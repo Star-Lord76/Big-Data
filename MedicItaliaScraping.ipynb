{
 "cells": [
  {
   "cell_type": "code",
   "execution_count": null,
   "metadata": {},
   "outputs": [],
   "source": [
    "from selenium import webdriver\n",
    "from selenium.webdriver.chrome.options import Options\n",
    "from selenium.webdriver.common.by import By\n",
    "from selenium.webdriver.support.ui import WebDriverWait\n",
    "from selenium.webdriver.support import expected_conditions as EC\n",
    "from tqdm.auto import tqdm\n",
    "from Medic1Utils import getHrefLinks"
   ]
  },
  {
   "cell_type": "code",
   "execution_count": null,
   "metadata": {},
   "outputs": [],
   "source": [
    "options = Options()\n",
    "options.headless = True\n",
    "options.add_argument(\"--window-size=1280,1024\")"
   ]
  },
  {
   "cell_type": "code",
   "execution_count": null,
   "metadata": {},
   "outputs": [],
   "source": [
    "def getAllHrefForArgument(driver: webdriver.Chrome, link: str, numeroPagine: int) -> set[str]:\n",
    "    \"\"\"\n",
    "    This Python function retrieves all href links from a specified number of pages of a given website\n",
    "    using a WebDriver.\n",
    "\n",
    "    :param driver: The `driver` parameter is an instance of the `webdriver.Chrome` class, which is\n",
    "    typically used in Selenium to automate web browsers for testing or web scraping purposes\n",
    "    :type driver: webdriver.Chrome\n",
    "    :param link: The `link` parameter in the `getAllHrefForArgument` function is a string that\n",
    "    represents the URL of a webpage from which you want to extract href links\n",
    "    :type link: str\n",
    "    :param numeroPagine: The `numeroPagine` parameter in the `getAllHrefForArgument` function represents\n",
    "    the total number of pages to iterate through when scraping href links from a website. This parameter\n",
    "    determines how many pages the function will visit to collect the href links\n",
    "    :type numeroPagine: int\n",
    "    :return: A set of strings containing all the href links found on the specified number of pages\n",
    "    starting from the given link.\n",
    "    \"\"\"\n",
    "    linkSet = set()\n",
    "    for currentIndex in tqdm(range(1, numeroPagine+1)):\n",
    "        linkWithPage = link + f\"&pagina={currentIndex}\"\n",
    "        \n",
    "        driver.get(linkWithPage)\n",
    "        \n",
    "        try:\n",
    "            WebDriverWait(driver, 5).until(\n",
    "                EC.presence_of_element_located((By.CLASS_NAME, 'titconsulto')))\n",
    "        except Exception as e:\n",
    "            return linkSet\n",
    "        elencoWebElementList = driver.find_elements(By.CLASS_NAME, \"titconsulto\")\n",
    "        linkSet.update(getHrefLinks(elencoWebElementList))\n",
    "    return linkSet"
   ]
  },
  {
   "cell_type": "code",
   "execution_count": null,
   "metadata": {},
   "outputs": [],
   "source": [
    "def getTextFromArticle(driver: webdriver.Chrome, link: str) -> tuple[tuple]:\n",
    "    \"\"\"\n",
    "    This Python function uses Selenium to extract text content from a specified article link and then\n",
    "    processes the text to return a tuple containing questions and answers.\n",
    "\n",
    "    :param link: The `link` parameter in the `getTextFromArticle` function is a string that represents\n",
    "    the URL of the article from which you want to extract text\n",
    "    :type link: str\n",
    "    :return: The function `getTextFromArticle` returns a tuple containing a single string element, which\n",
    "    is the result of calling the `getQandA` function on the text content of the article element located\n",
    "    by its class name 'txtArticolo'.\n",
    "    \"\"\"\n",
    "    driver.get(link)\n",
    "    try:\n",
    "        WebDriverWait(driver, 10).until(\n",
    "            EC.text_to_be_present_in_element(\n",
    "                (By.CLASS_NAME, 'txtArticolo'), '')\n",
    "        )\n",
    "    except:\n",
    "        print(\"Timed out waiting for page to load\")\n",
    "    article = driver.find_element(By.CLASS_NAME, 'txtArticolo')\n",
    "    domanda = article.text\n",
    "    typeDomanda = \"FROM_TEXT\"\n",
    "    if (domanda is None or domanda == \"\"):\n",
    "        domanda = article.get_attribute(\"textContent\")\n",
    "        typeDomanda = \"FROM_CONTENT\"\n",
    "\n",
    "    typeRisposta = \"FROM_TEXT\"\n",
    "    espertoRispostaWeb = driver.find_element(By.CLASS_NAME, \"espertoRispostaM\")\n",
    "    espertoRisposta = espertoRispostaWeb.text\n",
    "    if (espertoRisposta is None or espertoRisposta == \"\"):\n",
    "        espertoRisposta = espertoRispostaWeb.get_attribute(\"textContent\")\n",
    "        typeRisposta = \"FROM_CONTENT\"\n",
    "\n",
    "    return ((domanda, typeDomanda), (espertoRisposta, typeRisposta))"
   ]
  },
  {
   "cell_type": "code",
   "execution_count": null,
   "metadata": {},
   "outputs": [],
   "source": [
    "driver = webdriver.Chrome(options=options)\n",
    "linkSetPath = \"Medic1LinkSet.pkl\"\n",
    "linkSet = set()\n",
    "\n",
    "linkToSearchList = [\"https://www.medicitalia.it/consulti/?tag=celiachia\",\n",
    "                    \"https://www.medicitalia.it/consulti/?tag=asma\",\n",
    "                    \"https://www.medicitalia.it/consulti/?tag=allergia\",\n",
    "                    \"https://www.medicitalia.it/consulti/?tag=insonnia\",\n",
    "                    \"https://www.medicitalia.it/consulti/?tag=emicrania\",\n",
    "                    \"https://www.medicitalia.it/consulti/?tag=malattia-di-alzheimer\",\n",
    "                    \"https://www.medicitalia.it/consulti/?tag=diabete\",\n",
    "                    \"https://www.medicitalia.it/consulti/?tag=disturbi-della-vista\",\n",
    "                    \"https://www.medicitalia.it/consulti/?tag=dermatite\",\n",
    "                    \"https://www.medicitalia.it/consulti/?tag=salute-orale\"\n",
    "                    ]\n",
    "\n",
    "\n",
    "driver.get(linkToSearchList[0])\n",
    "accept_cookies_button = WebDriverWait(driver, 10).until( EC.presence_of_element_located((By.ID, \"pt-accept-all\")))     \n",
    "accept_cookies_button.click()\n",
    "for link in tqdm(linkToSearchList):\n",
    "    linkSet.update(getAllHrefForArgument(driver, link, 70))"
   ]
  },
  {
   "cell_type": "code",
   "execution_count": null,
   "metadata": {},
   "outputs": [],
   "source": [
    "from Utils import createObjectPickleSnapshot\n",
    "\n",
    "linkSetPath = \"MedicItaliaLinkSet.pkl\"\n",
    "createObjectPickleSnapshot(linkSet, linkSetPath)"
   ]
  },
  {
   "cell_type": "code",
   "execution_count": null,
   "metadata": {},
   "outputs": [],
   "source": [
    "from Utils import loadObjectPickleSnapshot\n",
    "\n",
    "\n",
    "linkSetPath = \"MedicItaliaLinkSet.pkl\"\n",
    "pickleLinkSet = loadObjectPickleSnapshot(linkSetPath)"
   ]
  },
  {
   "cell_type": "code",
   "execution_count": null,
   "metadata": {},
   "outputs": [],
   "source": [
    "from concurrent.futures import ThreadPoolExecutor\n",
    "from selenium import webdriver\n",
    "from queue import Queue\n",
    "\n",
    "driver_queue = Queue()\n",
    "\n",
    "\n",
    "def create_driver():\n",
    "    driver = webdriver.Chrome()\n",
    "    driver_queue.put(driver)\n",
    "    return driver\n",
    "\n",
    "\n",
    "num_drivers = 14\n",
    "drivers = [create_driver() for _ in range(num_drivers)]\n",
    "\n",
    "\n",
    "def process_link(link):\n",
    "    driver = driver_queue.get()\n",
    "    try:\n",
    "        result = getTextFromArticle(driver, link)\n",
    "    except Exception as e:\n",
    "        print(f\"Error processing link {link}: {str(e)}\")\n",
    "    finally:\n",
    "        driver_queue.put(driver)\n",
    "    return result\n",
    "\n",
    "\n",
    "with ThreadPoolExecutor(max_workers=num_drivers) as executor:\n",
    "    results = list(\n",
    "        tqdm(executor.map(process_link, pickleLinkSet), total=len(pickleLinkSet)))"
   ]
  },
  {
   "cell_type": "code",
   "execution_count": null,
   "metadata": {},
   "outputs": [],
   "source": [
    "import pandas as pd\n",
    "df = pd.DataFrame(results)\n",
    "df.to_csv(\"dica33DataNotClean.csv\", sep=\",\")"
   ]
  }
 ],
 "metadata": {
  "kernelspec": {
   "display_name": ".venv",
   "language": "python",
   "name": "python3"
  },
  "language_info": {
   "codemirror_mode": {
    "name": "ipython",
    "version": 3
   },
   "file_extension": ".py",
   "mimetype": "text/x-python",
   "name": "python",
   "nbconvert_exporter": "python",
   "pygments_lexer": "ipython3",
   "version": "3.12.1"
  }
 },
 "nbformat": 4,
 "nbformat_minor": 2
}
