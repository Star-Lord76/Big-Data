{
 "cells": [
  {
   "cell_type": "code",
   "execution_count": 19,
   "metadata": {},
   "outputs": [],
   "source": [
    "from selenium import webdriver\n",
    "from selenium.webdriver.chrome.options import Options\n",
    "from selenium.webdriver.common.by import By\n",
    "from selenium.webdriver.support.ui import WebDriverWait\n",
    "from selenium.webdriver.support import expected_conditions as EC\n",
    "from tqdm.auto import tqdm\n",
    "from dire33Utils import getHrefLinks, getQandA, loadSetPickleSnapshot, createSetPickleSnapshot"
   ]
  },
  {
   "cell_type": "code",
   "execution_count": 20,
   "metadata": {},
   "outputs": [],
   "source": [
    "options = Options()\n",
    "options.headless = True \n",
    "options.add_argument(\"--window-size=1280,1024\")  \n"
   ]
  },
  {
   "cell_type": "code",
   "execution_count": 21,
   "metadata": {},
   "outputs": [],
   "source": [
    "def getAllHrefForArgument(driver: webdriver.Chrome, link: str, numeroPagine: int) -> set[str]:\n",
    "    \"\"\"\n",
    "    This Python function retrieves all href links from a specified number of pages of a given website\n",
    "    using a WebDriver.\n",
    "    \n",
    "    :param driver: The `driver` parameter is an instance of the `webdriver.Chrome` class, which is\n",
    "    typically used in Selenium to automate web browsers for testing or web scraping purposes\n",
    "    :type driver: webdriver.Chrome\n",
    "    :param link: The `link` parameter in the `getAllHrefForArgument` function is a string that\n",
    "    represents the URL of a webpage from which you want to extract href links\n",
    "    :type link: str\n",
    "    :param numeroPagine: The `numeroPagine` parameter in the `getAllHrefForArgument` function represents\n",
    "    the total number of pages to iterate through when scraping href links from a website. This parameter\n",
    "    determines how many pages the function will visit to collect the href links\n",
    "    :type numeroPagine: int\n",
    "    :return: A set of strings containing all the href links found on the specified number of pages\n",
    "    starting from the given link.\n",
    "    \"\"\"\n",
    "    driver.get(link)\n",
    "    linkList = set()\n",
    "    for currentIndex in tqdm(range(1, numeroPagine+1)):\n",
    "        try:\n",
    "            WebDriverWait(driver, 5).until(\n",
    "                EC.presence_of_element_located((By.CLASS_NAME, 'elencoA')))\n",
    "        except:\n",
    "            break\n",
    "        elencoWebElementList = driver.find_elements(By.CLASS_NAME, \"elencoA\")\n",
    "        linkList.update(getHrefLinks(elencoWebElementList))\n",
    "        try:\n",
    "            driver.execute_script(f\"document.getElementById('pgg').value='{\n",
    "                currentIndex}'; paginazione.submit();\")\n",
    "        except: \n",
    "            return linkList\n",
    "    return linkList"
   ]
  },
  {
   "cell_type": "code",
   "execution_count": 27,
   "metadata": {},
   "outputs": [],
   "source": [
    "def getTextFromArticle(driver: webdriver.Chrome, link: str) -> str:\n",
    "    \"\"\"\n",
    "    This Python function uses Selenium to extract text content from a specified article link and then\n",
    "    processes the text to return a tuple containing questions and answers.\n",
    "\n",
    "    :param link: The `link` parameter in the `getTextFromArticle` function is a string that represents\n",
    "    the URL of the article from which you want to extract text\n",
    "    :type link: str\n",
    "    :return: The function `getTextFromArticle` returns a tuple containing a single string element, which\n",
    "    is the result of calling the `getQandA` function on the text content of the article element located\n",
    "    by its class name 'txtArticolo'.\n",
    "    \"\"\"\n",
    "    driver.get(link)\n",
    "    article = WebDriverWait(driver, 5).until(\n",
    "        EC.presence_of_element_located((By.CLASS_NAME, 'txtArticolo')))\n",
    "    result = article.text\n",
    "    if (result is None or result == \"\"):\n",
    "        article = WebDriverWait(driver, 5).until(\n",
    "            EC.presence_of_element_located((By.CLASS_NAME, 'txtArticolo')))\n",
    "        result = article.text\n",
    "    \n",
    "    return result"
   ]
  },
  {
   "cell_type": "code",
   "execution_count": null,
   "metadata": {},
   "outputs": [],
   "source": [
    "driver = webdriver.Chrome(options=options)\n",
    "linkSetPath = \"dire33LinkSet.pkl\"\n",
    "linkSet = set()\n",
    "\n",
    "linkToSearchList = [\"https://www.dica33.it/esperto-risponde/stomaco/\", \"https://www.dica33.it/esperto-risponde/reflusso/\", \n",
    "                    \"https://www.dica33.it/esperto-risponde/celiachia/\", \"https://www.dica33.it/esperto-risponde/peso/\" ,\n",
    "                    \"https://www.dica33.it/esperto-risponde/domande-stomaco-e-intestino/\", \"https://www.dica33.it/esperto-risponde/domande-mente-e-cervello/\",\n",
    "                    \"https://www.dica33.it/esperto-risponde/domande-scheletro-e-articolazioni/\", \"https://www.dica33.it/esperto-risponde/domande-fegato/\",\n",
    "                    \"https://www.dica33.it/esperto-risponde/domande-pelle/\", \"https://www.dica33.it/esperto-risponde/domande-cuore-circolazione-e-malattie-del-sangue/\",\n",
    "                    \"https://www.dica33.it/esperto-risponde/domande-orecchie-naso-e-gola/\", \"https://www.dica33.it/esperto-risponde/domande-occhio-e-vista/\"\n",
    "                    \n",
    "                    ]\n",
    "\n",
    "for link in tqdm(linkToSearchList):\n",
    "    linkSet.update(getAllHrefForArgument(driver, link, 40))\n",
    " "
   ]
  },
  {
   "cell_type": "code",
   "execution_count": null,
   "metadata": {},
   "outputs": [],
   "source": [
    "linkSetPath = \"dire33LinkSet.pkl\"\n",
    "createSetPickleSnapshot(linkSet,linkSetPath)"
   ]
  },
  {
   "cell_type": "code",
   "execution_count": 23,
   "metadata": {},
   "outputs": [],
   "source": [
    "linkSetPath = \"dire33LinkSet.pkl\"\n",
    "pickleLinkSet = loadSetPickleSnapshot(linkSetPath)"
   ]
  },
  {
   "cell_type": "code",
   "execution_count": 26,
   "metadata": {},
   "outputs": [
    {
     "data": {
      "text/plain": [
       "\"Domande e risposte »\\nRisposte di Orecchie naso e gola »\\n\\n06 maggio 2012\\nNaso chiuso: opzioni e opportunità\\nSalve, ho praticamente da sempre il naso chiuso e mi sono finalmente deciso ad approfondire il problema.\\nLe analisi hanno fornito i seguenti risultati:\\nRinomanometria nasale: con pressione 75 il flusso narice sinistra è di 28 ccm/s mentre il flusso narice destra è di 32 ccm/s.\\nTAC del massiccio facciale ha evidenziato: Scoliosi del setto nasale con sperone osteo-cartilagineo aggettante nella porzione inferiore della fossa nasale di sinistra e riduzione del corrispondente spazio aereo che è ai limiti della norma anche controlateralmente per il ridotto diametro trasverso.\\nCoesistenza di pseudocisti mucose nei recessi alveolari di ambedue i seni mascellari. In via collaterale discreta tumefazione dei tessuti molli e della volta del cavo rinofaringeo con ridotta evidenza, bilateralmente, dei recessi tubarici e delle fossette laterali. Conservata la pneumatizzazione delle mastoidi e degli orecchi medi.\\nSecondo la vostra esperienza, un quadro clinico di questo tipo richiede l’intervento chirurgico? Nel caso esistono opzioni alternative alla classica operazione con tamponi o è inevitabile?\\n\\nGrazie mille\\nLuigi\\n\\nRisposta del 11 maggio 2012\\n\\nRisposta a cura di:\\nDott. FRANCESCO GEDDA\\n\\nNon è possibile stabilire una indicazione chirurgica disponendo solo dei referti degli esami. La visita otorinolaringoistrica (meglio se supportata da una endoscopia) è un elemento determinante per prendere la decisione nel senso della terapia medica o di quella chirurgica.\\n\\nDott. Francesco Gedda\\nMedico Ospedaliero\\nSpecialista attività privata\\nSpecialista in Otorinolaringoiatria\\nTorino (TO)\\nArticoli, focus e approfondimenti di Orecchie, naso e gola\\n\\n\\nUltime risposte di Orecchie naso e gola\\nOrecchie tappate\\nVertigini\\nVestibologia\\nOrecchio otturato\\nFistola preauricolare\\nFischio alle orecchie che non passa da più di una settimana\\nL'acufene causa sordità?\\nTiroide\\nAcufene\\nProblema e aiuto\\nInvia una domanda\\nI medici saranno lieti di rispondere a tutti i tuoi dubbi!\\nInvia una domanda\""
      ]
     },
     "execution_count": 26,
     "metadata": {},
     "output_type": "execute_result"
    }
   ],
   "source": [
    "getTextFromArticle(webdriver.Chrome(), \"https://www.dica33.it/esperto-risponde/domanda-naso-chiuso-opzioni-e-opportunita-211907.asp\")"
   ]
  },
  {
   "cell_type": "code",
   "execution_count": 29,
   "metadata": {},
   "outputs": [
    {
     "data": {
      "application/vnd.jupyter.widget-view+json": {
       "model_id": "a5a663970788422ca21230a193269562",
       "version_major": 2,
       "version_minor": 0
      },
      "text/plain": [
       "  0%|          | 0/8177 [00:00<?, ?it/s]"
      ]
     },
     "metadata": {},
     "output_type": "display_data"
    },
    {
     "name": "stdout",
     "output_type": "stream",
     "text": [
      "Result for https://www.dica33.it/esperto-risponde/domanda-celiachia-e-le-medicine-5090.asp is empty\n",
      "Result for https://www.dica33.it/esperto-risponde/domanda-itraconazolo-e-integratori-228836.asp is empty\n",
      "Result for https://www.dica33.it/esperto-risponde/domanda-valore-ggt-sballato-279793.asp is empty\n",
      "Result for https://www.dica33.it/esperto-risponde/domanda-reflusso-273682.asp is empty\n",
      "Result for https://www.dica33.it/esperto-risponde/domanda-deodorante-anti-sudorazione-e-depilazione-laser-294253.asp is empty\n",
      "Result for https://www.dica33.it/esperto-risponde/domanda-sinusite-purulenta-221266.asp is empty\n",
      "Result for https://www.dica33.it/esperto-risponde/domanda-risonanza-magnetica-296113.asp is empty\n",
      "Result for https://www.dica33.it/esperto-risponde/domanda-colesterolo-ldl-269751.asp is empty\n",
      "Result for https://www.dica33.it/esperto-risponde/domanda-levopraid-298381.asp is empty\n",
      "Result for https://www.dica33.it/esperto-risponde/domanda-fenomeno-di-raynaud-317076.asp is empty\n",
      "Result for https://www.dica33.it/esperto-risponde/domanda-peli-superflui-e-crema-decolorante-134042.asp is empty\n",
      "Result for https://www.dica33.it/esperto-risponde/domanda-alcohol-e-ansiolitici-en-264211.asp is empty\n",
      "Result for https://www.dica33.it/esperto-risponde/domanda-dopo-vaccino-pfizer-bruciore-in-testa-e-formicolio-306544.asp is empty\n",
      "Result for https://www.dica33.it/esperto-risponde/domanda-muco-contenente-sangue-e-dolore-muscolo-elevatore-ano-298290.asp is empty\n",
      "Result for https://www.dica33.it/esperto-risponde/domanda-nausea-e-vomito-309926.asp is empty\n",
      "Result for https://www.dica33.it/esperto-risponde/domanda-possibile-celiachia-232893.asp is empty\n",
      "Result for https://www.dica33.it/esperto-risponde/domanda-gastrite-299796.asp is empty\n",
      "Result for https://www.dica33.it/esperto-risponde/domanda-gastrite-307799.asp is empty\n",
      "Result for https://www.dica33.it/esperto-risponde/domanda-tosse-infiammazione-gola-sangue-nel-catarro-febbre-207949.asp is empty\n",
      "Result for https://www.dica33.it/esperto-risponde/domanda-visita-neurologica-e-paura-245537.asp is empty\n",
      "Result for https://www.dica33.it/esperto-risponde/domanda-tosse-ed-esofagite-da-reflusso-133257.asp is empty\n",
      "Result for https://www.dica33.it/esperto-risponde/domanda-orticaria-autoimmune-132557.asp is empty\n",
      "Result for https://www.dica33.it/esperto-risponde/domanda-blocco-di-branca-destra-e-covid-19-307472.asp is empty\n",
      "Result for https://www.dica33.it/esperto-risponde/domanda-diagnosi-299574.asp is empty\n",
      "Result for https://www.dica33.it/esperto-risponde/domanda-forti-dolori-di-stomaco-e-intestinali-230990.asp is empty\n",
      "Result for https://www.dica33.it/esperto-risponde/domanda-edema-caviglia-da-due-mesi-314782.asp is empty\n",
      "Result for https://www.dica33.it/esperto-risponde/domanda-colesterolo-alto-282117.asp is empty\n",
      "Result for https://www.dica33.it/esperto-risponde/domanda-aiuto-caduta-continua-143402.asp is empty\n",
      "Result for https://www.dica33.it/esperto-risponde/domanda-perdita-olfatto-224806.asp is empty\n",
      "Result for https://www.dica33.it/esperto-risponde/domanda-costole-fratturate-305099.asp is empty\n",
      "Result for https://www.dica33.it/esperto-risponde/domanda-aritmie-309118.asp is empty\n",
      "Result for https://www.dica33.it/esperto-risponde/domanda-sclerodermia-non-sistemica-morfea-137229.asp is empty\n",
      "Result for https://www.dica33.it/esperto-risponde/domanda-tosse-e-catarro-207518.asp is empty\n",
      "Result for https://www.dica33.it/esperto-risponde/domanda-valore-ggt-basso-277176.asp is empty\n",
      "Result for https://www.dica33.it/esperto-risponde/domanda-insonnia-246599.asp is empty\n",
      "Result for https://www.dica33.it/esperto-risponde/domanda-informazione-302440.asp is empty\n",
      "Result for https://www.dica33.it/esperto-risponde/domanda-bozzo-sulla-tempia-da-anni-298849.asp is empty\n",
      "Result for https://www.dica33.it/esperto-risponde/domanda-informazione-sul-coronavirus-301841.asp is empty\n",
      "Result for https://www.dica33.it/esperto-risponde/domanda-mal-di-stomaco-e-problemi-all-intestino-228998.asp is empty\n",
      "Result for https://www.dica33.it/esperto-risponde/domanda-restrizione-alla-gola-durante-la-deglutizione-di-liquidi-206841.asp is empty\n",
      "Result for https://www.dica33.it/esperto-risponde/domanda-ansia-e-depressione-261995.asp is empty\n",
      "Result for https://www.dica33.it/esperto-risponde/domanda-artrite-reumatoide-300102.asp is empty\n",
      "Result for https://www.dica33.it/esperto-risponde/domanda-commozione-243033.asp is empty\n",
      "Result for https://www.dica33.it/esperto-risponde/domanda-difficolta-concentrazione-306293.asp is empty\n",
      "Result for https://www.dica33.it/esperto-risponde/domanda-operazione-osteosintesi-298087.asp is empty\n",
      "Result for https://www.dica33.it/esperto-risponde/domanda-reflusso-gastrico-205427.asp is empty\n",
      "Result for https://www.dica33.it/esperto-risponde/domanda-problema-ad-occhi-sn-109173.asp is empty\n",
      "Result for https://www.dica33.it/esperto-risponde/domanda-esami-del-sangue-transaminasi-267169.asp is empty\n",
      "Result for https://www.dica33.it/esperto-risponde/domanda-reflusso-244737.asp is empty\n",
      "Result for https://www.dica33.it/esperto-risponde/domanda-astigmatismo-8-otto-diottrie-109325.asp is empty\n",
      "Result for https://www.dica33.it/esperto-risponde/domanda-palpebra-mobile-131246.asp is empty\n",
      "Result for https://www.dica33.it/esperto-risponde/domanda-risonanza-encefalo-307537.asp is empty\n",
      "Result for https://www.dica33.it/esperto-risponde/domanda-attacchi-panico-bambina-9-anni-307716.asp is empty\n",
      "Result for https://www.dica33.it/esperto-risponde/domanda-fibre-nelle-feci-299673.asp is empty\n",
      "Result for https://www.dica33.it/esperto-risponde/domanda-extrasistole-284002.asp is empty\n",
      "Result for https://www.dica33.it/esperto-risponde/domanda-sesso-299458.asp is empty\n",
      "Result for https://www.dica33.it/esperto-risponde/domanda-bulbite-302451.asp is empty\n",
      "Result for https://www.dica33.it/esperto-risponde/domanda-insonnia-e-risvegli-notturni-con-disorientamento-274811.asp is empty\n",
      "Result for https://www.dica33.it/esperto-risponde/domanda-sonnolenza-244110.asp is empty\n",
      "Result for https://www.dica33.it/esperto-risponde/domanda-pancia-gonfia-dolori-basso-ventre-e-mal-di-stomaco-251609.asp is empty\n",
      "Result for https://www.dica33.it/esperto-risponde/domanda-otite-catarrale-222872.asp is empty\n",
      "Result for https://www.dica33.it/esperto-risponde/domanda-tremori-interni-e-gambe-307574.asp is empty\n",
      "Result for https://www.dica33.it/esperto-risponde/domanda-amilasi-alta-300764.asp is empty\n",
      "Result for https://www.dica33.it/esperto-risponde/domanda-leucoplachia-alla-lingua-214845.asp is empty\n",
      "Result for https://www.dica33.it/esperto-risponde/domanda-ipodermite-132806.asp is empty\n",
      "Result for https://www.dica33.it/esperto-risponde/domanda-reflusso-67771.asp is empty\n",
      "Result for https://www.dica33.it/esperto-risponde/domanda-minzione-frequente-notturna-e-nicturia-287845.asp is empty\n",
      "Result for https://www.dica33.it/esperto-risponde/domanda-ipertransaminasemia-284874.asp is empty\n",
      "Result for https://www.dica33.it/esperto-risponde/domanda-visita-specialistica-oculistica-eseguita-in-data-odierna-276987.asp is empty\n",
      "Result for https://www.dica33.it/esperto-risponde/domanda-sclerodermia-134767.asp is empty\n",
      "Result for https://www.dica33.it/esperto-risponde/domanda-ansia-o-cardiopatia-289296.asp is empty\n",
      "Result for https://www.dica33.it/esperto-risponde/domanda-paura-tumore-papilla-vater-o-pancreas-315463.asp is empty\n",
      "Result for https://www.dica33.it/esperto-risponde/domanda-stomaco-vomito-e-diarrea-solo-di-notte-239070.asp is empty\n",
      "Result for https://www.dica33.it/esperto-risponde/domanda-fumo-e-assunzione-farmaco-205716.asp is empty\n",
      "Result for https://www.dica33.it/esperto-risponde/domanda-amaro-in-bocca-che-non-passa-298558.asp is empty\n",
      "Result for https://www.dica33.it/esperto-risponde/domanda-risultato-esofagogastroduodenoscopia-299469.asp is empty\n",
      "Result for https://www.dica33.it/esperto-risponde/domanda-lesione-sovraspinato-spalla-306510.asp is empty\n",
      "Result for https://www.dica33.it/esperto-risponde/domanda-risultato-biopsia-retto-306817.asp is empty\n",
      "Result for https://www.dica33.it/esperto-risponde/domanda-splenectomia-post-traumatica-285322.asp is empty\n",
      "Result for https://www.dica33.it/esperto-risponde/domanda-pitiriasi-versicolor-133136.asp is empty\n",
      "Result for https://www.dica33.it/esperto-risponde/domanda-ricaduta-ed-efficacia-paroxetina-254457.asp is empty\n",
      "Result for https://www.dica33.it/esperto-risponde/domanda-peso-55242.asp is empty\n",
      "Result for https://www.dica33.it/esperto-risponde/domanda-troponina-valore-0-307886.asp is empty\n",
      "Result for https://www.dica33.it/esperto-risponde/domanda-problema-respirazione-nasale-238378.asp is empty\n",
      "Result for https://www.dica33.it/esperto-risponde/domanda-diplpia-89419.asp is empty\n",
      "Result for https://www.dica33.it/esperto-risponde/domanda-retina-sottile-120044.asp is empty\n",
      "Result for https://www.dica33.it/esperto-risponde/domanda-frattura-a-cuneo-di-l2-post-traumatica-288089.asp is empty\n",
      "Result for https://www.dica33.it/esperto-risponde/domanda-problemi-bocca-dello-stomaco-260502.asp is empty\n",
      "Result for https://www.dica33.it/esperto-risponde/domanda-dolore-petto-e-bocca-stomaco-forte-e-bruciore-308984.asp is empty\n",
      "Result for https://www.dica33.it/esperto-risponde/domanda-sintomi-gastrite-o-reflusso-153667.asp is empty\n",
      "Result for https://www.dica33.it/esperto-risponde/domanda-rx-esofago-e-stomaco-285050.asp is empty\n",
      "Result for https://www.dica33.it/esperto-risponde/domanda-infiltrazioni-in-ospedale-e-rischio-covid-19-295674.asp is empty\n",
      "Result for https://www.dica33.it/esperto-risponde/domanda-emorroidi-esterne-e-interne-292358.asp is empty\n",
      "Result for https://www.dica33.it/esperto-risponde/domanda-parkinsonismo-301929.asp is empty\n",
      "Result for https://www.dica33.it/esperto-risponde/domanda-fegato-steatosico-e-transaminasi-alte-307516.asp is empty\n",
      "Result for https://www.dica33.it/esperto-risponde/domanda-macchie-bianche-sulla-pelle-132755.asp is empty\n",
      "Result for https://www.dica33.it/esperto-risponde/domanda-laparocele-297791.asp is empty\n",
      "Result for https://www.dica33.it/esperto-risponde/domanda-ginocchio-295562.asp is empty\n"
     ]
    },
    {
     "ename": "KeyboardInterrupt",
     "evalue": "",
     "output_type": "error",
     "traceback": [
      "\u001b[1;31m---------------------------------------------------------------------------\u001b[0m",
      "\u001b[1;31mKeyboardInterrupt\u001b[0m                         Traceback (most recent call last)",
      "Cell \u001b[1;32mIn[29], line 30\u001b[0m\n\u001b[0;32m     27\u001b[0m     \u001b[38;5;28;01mreturn\u001b[39;00m result\n\u001b[0;32m     29\u001b[0m \u001b[38;5;28;01mwith\u001b[39;00m ThreadPoolExecutor(max_workers\u001b[38;5;241m=\u001b[39mnum_drivers) \u001b[38;5;28;01mas\u001b[39;00m executor:\n\u001b[1;32m---> 30\u001b[0m     results \u001b[38;5;241m=\u001b[39m \u001b[38;5;28;43mlist\u001b[39;49m\u001b[43m(\u001b[49m\u001b[43mtqdm\u001b[49m\u001b[43m(\u001b[49m\u001b[43mexecutor\u001b[49m\u001b[38;5;241;43m.\u001b[39;49m\u001b[43mmap\u001b[49m\u001b[43m(\u001b[49m\u001b[43mprocess_link\u001b[49m\u001b[43m,\u001b[49m\u001b[43m \u001b[49m\u001b[43mpickleLinkSet\u001b[49m\u001b[43m)\u001b[49m\u001b[43m,\u001b[49m\u001b[43m \u001b[49m\u001b[43mtotal\u001b[49m\u001b[38;5;241;43m=\u001b[39;49m\u001b[38;5;28;43mlen\u001b[39;49m\u001b[43m(\u001b[49m\u001b[43mpickleLinkSet\u001b[49m\u001b[43m)\u001b[49m\u001b[43m)\u001b[49m\u001b[43m)\u001b[49m\n",
      "File \u001b[1;32md:\\Nico\\Documenti\\GitHub\\Big-Data\\.venv\\Lib\\site-packages\\tqdm\\notebook.py:250\u001b[0m, in \u001b[0;36mtqdm_notebook.__iter__\u001b[1;34m(self)\u001b[0m\n\u001b[0;32m    248\u001b[0m \u001b[38;5;28;01mtry\u001b[39;00m:\n\u001b[0;32m    249\u001b[0m     it \u001b[38;5;241m=\u001b[39m \u001b[38;5;28msuper\u001b[39m()\u001b[38;5;241m.\u001b[39m\u001b[38;5;21m__iter__\u001b[39m()\n\u001b[1;32m--> 250\u001b[0m \u001b[43m    \u001b[49m\u001b[38;5;28;43;01mfor\u001b[39;49;00m\u001b[43m \u001b[49m\u001b[43mobj\u001b[49m\u001b[43m \u001b[49m\u001b[38;5;129;43;01min\u001b[39;49;00m\u001b[43m \u001b[49m\u001b[43mit\u001b[49m\u001b[43m:\u001b[49m\n\u001b[0;32m    251\u001b[0m \u001b[43m        \u001b[49m\u001b[38;5;66;43;03m# return super(tqdm...) will not catch exception\u001b[39;49;00m\n\u001b[0;32m    252\u001b[0m \u001b[43m        \u001b[49m\u001b[38;5;28;43;01myield\u001b[39;49;00m\u001b[43m \u001b[49m\u001b[43mobj\u001b[49m\n\u001b[0;32m    253\u001b[0m \u001b[38;5;66;03m# NB: except ... [ as ...] breaks IPython async KeyboardInterrupt\u001b[39;00m\n",
      "File \u001b[1;32md:\\Nico\\Documenti\\GitHub\\Big-Data\\.venv\\Lib\\site-packages\\tqdm\\std.py:1181\u001b[0m, in \u001b[0;36mtqdm.__iter__\u001b[1;34m(self)\u001b[0m\n\u001b[0;32m   1178\u001b[0m time \u001b[38;5;241m=\u001b[39m \u001b[38;5;28mself\u001b[39m\u001b[38;5;241m.\u001b[39m_time\n\u001b[0;32m   1180\u001b[0m \u001b[38;5;28;01mtry\u001b[39;00m:\n\u001b[1;32m-> 1181\u001b[0m \u001b[43m    \u001b[49m\u001b[38;5;28;43;01mfor\u001b[39;49;00m\u001b[43m \u001b[49m\u001b[43mobj\u001b[49m\u001b[43m \u001b[49m\u001b[38;5;129;43;01min\u001b[39;49;00m\u001b[43m \u001b[49m\u001b[43miterable\u001b[49m\u001b[43m:\u001b[49m\n\u001b[0;32m   1182\u001b[0m \u001b[43m        \u001b[49m\u001b[38;5;28;43;01myield\u001b[39;49;00m\u001b[43m \u001b[49m\u001b[43mobj\u001b[49m\n\u001b[0;32m   1183\u001b[0m \u001b[43m        \u001b[49m\u001b[38;5;66;43;03m# Update and possibly print the progressbar.\u001b[39;49;00m\n\u001b[0;32m   1184\u001b[0m \u001b[43m        \u001b[49m\u001b[38;5;66;43;03m# Note: does not call self.update(1) for speed optimisation.\u001b[39;49;00m\n",
      "File \u001b[1;32mc:\\Users\\nico2\\AppData\\Local\\Programs\\Python\\Python312\\Lib\\concurrent\\futures\\_base.py:619\u001b[0m, in \u001b[0;36mExecutor.map.<locals>.result_iterator\u001b[1;34m()\u001b[0m\n\u001b[0;32m    616\u001b[0m \u001b[38;5;28;01mwhile\u001b[39;00m fs:\n\u001b[0;32m    617\u001b[0m     \u001b[38;5;66;03m# Careful not to keep a reference to the popped future\u001b[39;00m\n\u001b[0;32m    618\u001b[0m     \u001b[38;5;28;01mif\u001b[39;00m timeout \u001b[38;5;129;01mis\u001b[39;00m \u001b[38;5;28;01mNone\u001b[39;00m:\n\u001b[1;32m--> 619\u001b[0m         \u001b[38;5;28;01myield\u001b[39;00m \u001b[43m_result_or_cancel\u001b[49m\u001b[43m(\u001b[49m\u001b[43mfs\u001b[49m\u001b[38;5;241;43m.\u001b[39;49m\u001b[43mpop\u001b[49m\u001b[43m(\u001b[49m\u001b[43m)\u001b[49m\u001b[43m)\u001b[49m\n\u001b[0;32m    620\u001b[0m     \u001b[38;5;28;01melse\u001b[39;00m:\n\u001b[0;32m    621\u001b[0m         \u001b[38;5;28;01myield\u001b[39;00m _result_or_cancel(fs\u001b[38;5;241m.\u001b[39mpop(), end_time \u001b[38;5;241m-\u001b[39m time\u001b[38;5;241m.\u001b[39mmonotonic())\n",
      "File \u001b[1;32mc:\\Users\\nico2\\AppData\\Local\\Programs\\Python\\Python312\\Lib\\concurrent\\futures\\_base.py:317\u001b[0m, in \u001b[0;36m_result_or_cancel\u001b[1;34m(***failed resolving arguments***)\u001b[0m\n\u001b[0;32m    315\u001b[0m \u001b[38;5;28;01mtry\u001b[39;00m:\n\u001b[0;32m    316\u001b[0m     \u001b[38;5;28;01mtry\u001b[39;00m:\n\u001b[1;32m--> 317\u001b[0m         \u001b[38;5;28;01mreturn\u001b[39;00m \u001b[43mfut\u001b[49m\u001b[38;5;241;43m.\u001b[39;49m\u001b[43mresult\u001b[49m\u001b[43m(\u001b[49m\u001b[43mtimeout\u001b[49m\u001b[43m)\u001b[49m\n\u001b[0;32m    318\u001b[0m     \u001b[38;5;28;01mfinally\u001b[39;00m:\n\u001b[0;32m    319\u001b[0m         fut\u001b[38;5;241m.\u001b[39mcancel()\n",
      "File \u001b[1;32mc:\\Users\\nico2\\AppData\\Local\\Programs\\Python\\Python312\\Lib\\concurrent\\futures\\_base.py:451\u001b[0m, in \u001b[0;36mFuture.result\u001b[1;34m(self, timeout)\u001b[0m\n\u001b[0;32m    448\u001b[0m \u001b[38;5;28;01melif\u001b[39;00m \u001b[38;5;28mself\u001b[39m\u001b[38;5;241m.\u001b[39m_state \u001b[38;5;241m==\u001b[39m FINISHED:\n\u001b[0;32m    449\u001b[0m     \u001b[38;5;28;01mreturn\u001b[39;00m \u001b[38;5;28mself\u001b[39m\u001b[38;5;241m.\u001b[39m__get_result()\n\u001b[1;32m--> 451\u001b[0m \u001b[38;5;28;43mself\u001b[39;49m\u001b[38;5;241;43m.\u001b[39;49m\u001b[43m_condition\u001b[49m\u001b[38;5;241;43m.\u001b[39;49m\u001b[43mwait\u001b[49m\u001b[43m(\u001b[49m\u001b[43mtimeout\u001b[49m\u001b[43m)\u001b[49m\n\u001b[0;32m    453\u001b[0m \u001b[38;5;28;01mif\u001b[39;00m \u001b[38;5;28mself\u001b[39m\u001b[38;5;241m.\u001b[39m_state \u001b[38;5;129;01min\u001b[39;00m [CANCELLED, CANCELLED_AND_NOTIFIED]:\n\u001b[0;32m    454\u001b[0m     \u001b[38;5;28;01mraise\u001b[39;00m CancelledError()\n",
      "File \u001b[1;32mc:\\Users\\nico2\\AppData\\Local\\Programs\\Python\\Python312\\Lib\\threading.py:355\u001b[0m, in \u001b[0;36mCondition.wait\u001b[1;34m(self, timeout)\u001b[0m\n\u001b[0;32m    353\u001b[0m \u001b[38;5;28;01mtry\u001b[39;00m:    \u001b[38;5;66;03m# restore state no matter what (e.g., KeyboardInterrupt)\u001b[39;00m\n\u001b[0;32m    354\u001b[0m     \u001b[38;5;28;01mif\u001b[39;00m timeout \u001b[38;5;129;01mis\u001b[39;00m \u001b[38;5;28;01mNone\u001b[39;00m:\n\u001b[1;32m--> 355\u001b[0m         \u001b[43mwaiter\u001b[49m\u001b[38;5;241;43m.\u001b[39;49m\u001b[43macquire\u001b[49m\u001b[43m(\u001b[49m\u001b[43m)\u001b[49m\n\u001b[0;32m    356\u001b[0m         gotit \u001b[38;5;241m=\u001b[39m \u001b[38;5;28;01mTrue\u001b[39;00m\n\u001b[0;32m    357\u001b[0m     \u001b[38;5;28;01melse\u001b[39;00m:\n",
      "\u001b[1;31mKeyboardInterrupt\u001b[0m: "
     ]
    }
   ],
   "source": [
    "from concurrent.futures import ThreadPoolExecutor\n",
    "from selenium import webdriver\n",
    "from queue import Queue\n",
    "\n",
    "driver_queue = Queue()\n",
    "\n",
    "retrySet = set()\n",
    "\n",
    "def create_driver():\n",
    "    driver = webdriver.Chrome()  \n",
    "    driver_queue.put(driver)\n",
    "    return driver\n",
    "\n",
    "\n",
    "num_drivers = 10\n",
    "drivers = [create_driver() for _ in range(num_drivers)]\n",
    "\n",
    "def process_link(link):\n",
    "    driver = driver_queue.get()\n",
    "    try:\n",
    "        result = getTextFromArticle(driver, link)\n",
    "        if (result is None or result == \"\"):\n",
    "            print(f\"Result for {link} is empty\")\n",
    "            retrySet.add(link)\n",
    "    except Exception as e:\n",
    "        print(f\"Error processing link {link}: {str(e)}\")\n",
    "        result = 'Error'\n",
    "    finally:\n",
    "        driver_queue.put(driver)\n",
    "    return result\n",
    "\n",
    "with ThreadPoolExecutor(max_workers=num_drivers) as executor:\n",
    "    results = list(tqdm(executor.map(process_link, pickleLinkSet), total=len(pickleLinkSet)))\n",
    "with ThreadPoolExecutor(max_workers=num_drivers) as executor:\n",
    "    results = list(tqdm(executor.map(process_link, retrySet), total=len(retrySet)))"
   ]
  },
  {
   "cell_type": "code",
   "execution_count": null,
   "metadata": {},
   "outputs": [],
   "source": [
    "import pickle\n",
    "with open('dire33.pkl', 'wb') as f:\n",
    "    pickle.dump(QandA,f)"
   ]
  },
  {
   "cell_type": "code",
   "execution_count": null,
   "metadata": {},
   "outputs": [],
   "source": [
    "print(len(QandA))"
   ]
  }
 ],
 "metadata": {
  "kernelspec": {
   "display_name": ".venv",
   "language": "python",
   "name": "python3"
  },
  "language_info": {
   "codemirror_mode": {
    "name": "ipython",
    "version": 3
   },
   "file_extension": ".py",
   "mimetype": "text/x-python",
   "name": "python",
   "nbconvert_exporter": "python",
   "pygments_lexer": "ipython3",
   "version": "3.12.1"
  }
 },
 "nbformat": 4,
 "nbformat_minor": 2
}
