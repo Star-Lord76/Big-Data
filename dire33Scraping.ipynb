{
 "cells": [
  {
   "cell_type": "code",
   "execution_count": null,
   "metadata": {},
   "outputs": [],
   "source": [
    "from selenium import webdriver\n",
    "from selenium.webdriver.chrome.options import Options\n",
    "from selenium.webdriver.common.by import By\n",
    "from selenium.webdriver.support.ui import WebDriverWait\n",
    "from selenium.webdriver.support import expected_conditions as EC\n",
    "from tqdm.auto import tqdm\n",
    "from dire33Utils import getHrefLinks, getQandA"
   ]
  },
  {
   "cell_type": "code",
   "execution_count": 2,
   "metadata": {},
   "outputs": [],
   "source": [
    "options = Options()\n",
    "options.headless = True \n",
    "options.add_argument(\"--window-size=1280,1024\")  \n"
   ]
  },
  {
   "cell_type": "code",
   "execution_count": 4,
   "metadata": {},
   "outputs": [],
   "source": [
    "def getAllHrefForArgument(driver: webdriver.Chrome, link: str, numeroPagine: int) -> set[str]:\n",
    "    \"\"\"\n",
    "    This Python function retrieves all href links from a specified number of pages of a given website\n",
    "    using a WebDriver.\n",
    "    \n",
    "    :param driver: The `driver` parameter is an instance of the `webdriver.Chrome` class, which is\n",
    "    typically used in Selenium to automate web browsers for testing or web scraping purposes\n",
    "    :type driver: webdriver.Chrome\n",
    "    :param link: The `link` parameter in the `getAllHrefForArgument` function is a string that\n",
    "    represents the URL of a webpage from which you want to extract href links\n",
    "    :type link: str\n",
    "    :param numeroPagine: The `numeroPagine` parameter in the `getAllHrefForArgument` function represents\n",
    "    the total number of pages to iterate through when scraping href links from a website. This parameter\n",
    "    determines how many pages the function will visit to collect the href links\n",
    "    :type numeroPagine: int\n",
    "    :return: A set of strings containing all the href links found on the specified number of pages\n",
    "    starting from the given link.\n",
    "    \"\"\"\n",
    "    driver.get(link)\n",
    "    linkList = set()\n",
    "    for currentIndex in tqdm(range(1, numeroPagine+1)):\n",
    "        try:\n",
    "            WebDriverWait(driver, 5).until(\n",
    "                EC.presence_of_element_located((By.CLASS_NAME, 'elencoA')))\n",
    "        except:\n",
    "            break\n",
    "        elencoWebElementList = driver.find_elements(By.CLASS_NAME, \"elencoA\")\n",
    "        linkList.update(getHrefLinks(elencoWebElementList))\n",
    "        try:\n",
    "            driver.execute_script(f\"document.getElementById('pgg').value='{\n",
    "                currentIndex}'; paginazione.submit();\")\n",
    "        except: \n",
    "            return linkList\n",
    "    return linkList"
   ]
  },
  {
   "cell_type": "code",
   "execution_count": 5,
   "metadata": {},
   "outputs": [],
   "source": [
    "def getTextFromArticle(driver: webdriver.Chrome, link: str) -> tuple[str]:\n",
    "    \"\"\"\n",
    "    This Python function uses Selenium to extract text content from a specified article link and then\n",
    "    processes the text to return a tuple containing questions and answers.\n",
    "\n",
    "    :param driver: The `driver` parameter is an instance of the `webdriver.Chrome` class, which is used\n",
    "    for controlling the Chrome web browser through Selenium\n",
    "    :type driver: webdriver.Chrome\n",
    "    :param link: The `link` parameter in the `getTextFromArticle` function is a string that represents\n",
    "    the URL of the article from which you want to extract text\n",
    "    :type link: str\n",
    "    :return: The function `getTextFromArticle` returns a tuple containing a single string element, which\n",
    "    is the result of calling the `getQandA` function on the text content of the article element located\n",
    "    by its class name 'txtArticolo'.\n",
    "    \"\"\"\n",
    "    driver.get(link)\n",
    "    article = WebDriverWait(driver, 5).until(\n",
    "        EC.presence_of_element_located((By.CLASS_NAME, 'txtArticolo')))\n",
    "    return getQandA(article.text)"
   ]
  },
  {
   "cell_type": "code",
   "execution_count": 6,
   "metadata": {},
   "outputs": [
    {
     "data": {
      "application/vnd.jupyter.widget-view+json": {
       "model_id": "8cf73f3680cb44578cf80678c3061f8b",
       "version_major": 2,
       "version_minor": 0
      },
      "text/plain": [
       "  0%|          | 0/12 [00:00<?, ?it/s]"
      ]
     },
     "metadata": {},
     "output_type": "display_data"
    },
    {
     "data": {
      "application/vnd.jupyter.widget-view+json": {
       "model_id": "6bd5b3201f6c4f158445e30a9be36ccc",
       "version_major": 2,
       "version_minor": 0
      },
      "text/plain": [
       "  0%|          | 0/40 [00:00<?, ?it/s]"
      ]
     },
     "metadata": {},
     "output_type": "display_data"
    },
    {
     "ename": "NameError",
     "evalue": "name 'getHrefLinks' is not defined",
     "output_type": "error",
     "traceback": [
      "\u001b[1;31m---------------------------------------------------------------------------\u001b[0m",
      "\u001b[1;31mNameError\u001b[0m                                 Traceback (most recent call last)",
      "Cell \u001b[1;32mIn[6], line 14\u001b[0m\n\u001b[0;32m      4\u001b[0m linkToSearchList \u001b[38;5;241m=\u001b[39m [\u001b[38;5;124m\"\u001b[39m\u001b[38;5;124mhttps://www.dica33.it/esperto-risponde/stomaco/\u001b[39m\u001b[38;5;124m\"\u001b[39m, \u001b[38;5;124m\"\u001b[39m\u001b[38;5;124mhttps://www.dica33.it/esperto-risponde/reflusso/\u001b[39m\u001b[38;5;124m\"\u001b[39m, \n\u001b[0;32m      5\u001b[0m                     \u001b[38;5;124m\"\u001b[39m\u001b[38;5;124mhttps://www.dica33.it/esperto-risponde/celiachia/\u001b[39m\u001b[38;5;124m\"\u001b[39m, \u001b[38;5;124m\"\u001b[39m\u001b[38;5;124mhttps://www.dica33.it/esperto-risponde/peso/\u001b[39m\u001b[38;5;124m\"\u001b[39m ,\n\u001b[0;32m      6\u001b[0m                     \u001b[38;5;124m\"\u001b[39m\u001b[38;5;124mhttps://www.dica33.it/esperto-risponde/domande-stomaco-e-intestino/\u001b[39m\u001b[38;5;124m\"\u001b[39m, \u001b[38;5;124m\"\u001b[39m\u001b[38;5;124mhttps://www.dica33.it/esperto-risponde/domande-mente-e-cervello/\u001b[39m\u001b[38;5;124m\"\u001b[39m,\n\u001b[1;32m   (...)\u001b[0m\n\u001b[0;32m     10\u001b[0m                     \n\u001b[0;32m     11\u001b[0m                     ]\n\u001b[0;32m     13\u001b[0m \u001b[38;5;28;01mfor\u001b[39;00m link \u001b[38;5;129;01min\u001b[39;00m tqdm(linkToSearchList):\n\u001b[1;32m---> 14\u001b[0m     linkSet\u001b[38;5;241m.\u001b[39mupdate(\u001b[43mgetAllHrefForArgument\u001b[49m\u001b[43m(\u001b[49m\u001b[43mdriver\u001b[49m\u001b[43m,\u001b[49m\u001b[43m \u001b[49m\u001b[43mlink\u001b[49m\u001b[43m,\u001b[49m\u001b[43m \u001b[49m\u001b[38;5;241;43m40\u001b[39;49m\u001b[43m)\u001b[49m)\n",
      "Cell \u001b[1;32mIn[4], line 28\u001b[0m, in \u001b[0;36mgetAllHrefForArgument\u001b[1;34m(driver, link, numeroPagine)\u001b[0m\n\u001b[0;32m     26\u001b[0m     \u001b[38;5;28;01mbreak\u001b[39;00m\n\u001b[0;32m     27\u001b[0m elencoWebElementList \u001b[38;5;241m=\u001b[39m driver\u001b[38;5;241m.\u001b[39mfind_elements(By\u001b[38;5;241m.\u001b[39mCLASS_NAME, \u001b[38;5;124m\"\u001b[39m\u001b[38;5;124melencoA\u001b[39m\u001b[38;5;124m\"\u001b[39m)\n\u001b[1;32m---> 28\u001b[0m linkList\u001b[38;5;241m.\u001b[39mupdate(\u001b[43mgetHrefLinks\u001b[49m(elencoWebElementList))\n\u001b[0;32m     29\u001b[0m \u001b[38;5;28;01mtry\u001b[39;00m:\n\u001b[0;32m     30\u001b[0m     driver\u001b[38;5;241m.\u001b[39mexecute_script(\u001b[38;5;124mf\u001b[39m\u001b[38;5;124m\"\u001b[39m\u001b[38;5;124mdocument.getElementById(\u001b[39m\u001b[38;5;124m'\u001b[39m\u001b[38;5;124mpgg\u001b[39m\u001b[38;5;124m'\u001b[39m\u001b[38;5;124m).value=\u001b[39m\u001b[38;5;124m'\u001b[39m\u001b[38;5;132;01m{\u001b[39;00m\n\u001b[0;32m     31\u001b[0m \u001b[38;5;250m        \u001b[39mcurrentIndex\u001b[38;5;132;01m}\u001b[39;00m\u001b[38;5;124m'\u001b[39m\u001b[38;5;124m; paginazione.submit();\u001b[39m\u001b[38;5;124m\"\u001b[39m)\n",
      "\u001b[1;31mNameError\u001b[0m: name 'getHrefLinks' is not defined"
     ]
    }
   ],
   "source": [
    "driver = webdriver.Chrome(options=options)\n",
    "linkSet = set()\n",
    "\n",
    "linkToSearchList = [\"https://www.dica33.it/esperto-risponde/stomaco/\", \"https://www.dica33.it/esperto-risponde/reflusso/\", \n",
    "                    \"https://www.dica33.it/esperto-risponde/celiachia/\", \"https://www.dica33.it/esperto-risponde/peso/\" ,\n",
    "                    \"https://www.dica33.it/esperto-risponde/domande-stomaco-e-intestino/\", \"https://www.dica33.it/esperto-risponde/domande-mente-e-cervello/\",\n",
    "                    \"https://www.dica33.it/esperto-risponde/domande-scheletro-e-articolazioni/\", \"https://www.dica33.it/esperto-risponde/domande-fegato/\",\n",
    "                    \"https://www.dica33.it/esperto-risponde/domande-pelle/\", \"https://www.dica33.it/esperto-risponde/domande-cuore-circolazione-e-malattie-del-sangue/\",\n",
    "                    \"https://www.dica33.it/esperto-risponde/domande-orecchie-naso-e-gola/\", \"https://www.dica33.it/esperto-risponde/domande-occhio-e-vista/\"\n",
    "                    \n",
    "                    ]\n",
    "\n",
    "for link in tqdm(linkToSearchList):\n",
    "    linkSet.update(getAllHrefForArgument(driver, link, 40))\n",
    " "
   ]
  },
  {
   "cell_type": "code",
   "execution_count": null,
   "metadata": {},
   "outputs": [],
   "source": [
    "QandA = set()\n",
    "\n",
    "for link in tqdm(linkSet):\n",
    "    try:\n",
    "        QandA.add(getTextFromArticle(driver,link))\n",
    "    except:\n",
    "        pass\n",
    "    \n",
    "driver.quit()"
   ]
  },
  {
   "cell_type": "code",
   "execution_count": null,
   "metadata": {},
   "outputs": [],
   "source": [
    "import pickle\n",
    "with open('dire33.pkl', 'wb') as f:\n",
    "    pickle.dump(linkSet,f)"
   ]
  }
 ],
 "metadata": {
  "kernelspec": {
   "display_name": ".venv",
   "language": "python",
   "name": "python3"
  },
  "language_info": {
   "codemirror_mode": {
    "name": "ipython",
    "version": 3
   },
   "file_extension": ".py",
   "mimetype": "text/x-python",
   "name": "python",
   "nbconvert_exporter": "python",
   "pygments_lexer": "ipython3",
   "version": "3.12.1"
  }
 },
 "nbformat": 4,
 "nbformat_minor": 2
}
